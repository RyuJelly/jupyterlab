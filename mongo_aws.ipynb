{
 "cells": [
  {
   "cell_type": "markdown",
   "metadata": {},
   "source": [
    "# pymongo를 활용한 MongoDB 프로그래밍"
   ]
  },
  {
   "cell_type": "markdown",
   "metadata": {},
   "source": [
    "## AWS의 MongoDB 접속"
   ]
  },
  {
   "cell_type": "code",
   "execution_count": 2,
   "metadata": {},
   "outputs": [],
   "source": [
    "from pymongo import MongoClient \n",
    "my_client = MongoClient(\"mongodb://localhost:27017/\")"
   ]
  },
  {
   "cell_type": "code",
   "execution_count": 9,
   "metadata": {},
   "outputs": [
    {
     "name": "stdout",
     "output_type": "stream",
     "text": [
      "['admin', 'config', 'lab12db', 'local', 'testdb_lab12', 'testdb_lab13']\n"
     ]
    }
   ],
   "source": [
    "print(my_client.list_database_names()) "
   ]
  },
  {
   "cell_type": "markdown",
   "metadata": {},
   "source": [
    "## 리눅스에 만들어놓은 book이라는 컬렉션의 도큐먼트들 추출"
   ]
  },
  {
   "cell_type": "code",
   "execution_count": 4,
   "metadata": {},
   "outputs": [
    {
     "name": "stdout",
     "output_type": "stream",
     "text": [
      "{'_id': ObjectId('5faa41f83fd95c688023de3c'), 'name': 'python', 'price': 10000.0}\n",
      "{'_id': ObjectId('5faa42a33fd95c688023de3d'), 'name': 'java', 'price': 12000.0}\n",
      "{'_id': ObjectId('5faa42aa3fd95c688023de3e'), 'name': 'javascript', 'price': 8000.0}\n",
      "{'_id': ObjectId('5faa42b43fd95c688023de3f'), 'name': 'html5', 'price': 8000.0}\n",
      "{'_id': ObjectId('5faa42bc3fd95c688023de40'), 'name': 'django', 'price': 20000.0}\n",
      "{'_id': ObjectId('5faa42c33fd95c688023de41'), 'name': 'spark', 'price': 25000.0}\n",
      "{'_id': ObjectId('5faa45543fd95c688023de42'), 'name': 'CSS3', 'price': 17000.0}\n",
      "{'_id': ObjectId('5faa455f3fd95c688023de43'), 'name': 'pandas', 'price': 21000.0}\n",
      "{'_id': ObjectId('5faa455f3fd95c688023de44'), 'name': 'R', 'price': 23000.0}\n"
     ]
    }
   ],
   "source": [
    "my_doc = my_client['testdb_lab12']['book'].find()\n",
    "for x in my_doc: \n",
    "   print(x)"
   ]
  },
  {
   "cell_type": "markdown",
   "metadata": {},
   "source": [
    "## tutordb라는 데이터베이스를 생성하거나 추출"
   ]
  },
  {
   "cell_type": "code",
   "execution_count": 5,
   "metadata": {},
   "outputs": [
    {
     "name": "stdout",
     "output_type": "stream",
     "text": [
      "5faa52acd7289cc5bd7f0234\n"
     ]
    }
   ],
   "source": [
    "mydb = my_client['lab12db']   # 본인 계정명(labXXdb)으로 수정할것\n",
    "mycol = mydb['customers'] \n",
    "x = mycol.insert_one({\"name\":\"dooly\", \"address\":\"SSangmun-dong, Seoul\"}) \n",
    "print(x.inserted_id)"
   ]
  },
  {
   "cell_type": "code",
   "execution_count": 10,
   "metadata": {},
   "outputs": [
    {
     "name": "stdout",
     "output_type": "stream",
     "text": [
      "['customers']\n"
     ]
    }
   ],
   "source": [
    "collection_list = mydb.list_collection_names() \n",
    "print (collection_list)"
   ]
  },
  {
   "cell_type": "code",
   "execution_count": 11,
   "metadata": {},
   "outputs": [
    {
     "name": "stdout",
     "output_type": "stream",
     "text": [
      "5faa532dd7289cc5bd7f0235\n"
     ]
    }
   ],
   "source": [
    "x = mycol.insert_one({\"name\":\"gogildong\", \"address\":\"SSangmun-dong, Seoul\"}) \n",
    "print(x.inserted_id)"
   ]
  },
  {
   "cell_type": "code",
   "execution_count": 12,
   "metadata": {},
   "outputs": [
    {
     "name": "stdout",
     "output_type": "stream",
     "text": [
      "{'_id': ObjectId('5faa52acd7289cc5bd7f0234'), 'name': 'dooly', 'address': 'SSangmun-dong, Seoul'}\n"
     ]
    }
   ],
   "source": [
    "x = mycol.find_one()\n",
    "print(x)"
   ]
  },
  {
   "cell_type": "code",
   "execution_count": 13,
   "metadata": {},
   "outputs": [
    {
     "name": "stdout",
     "output_type": "stream",
     "text": [
      "[ObjectId('5faa5336d7289cc5bd7f0236'), ObjectId('5faa5336d7289cc5bd7f0237'), ObjectId('5faa5336d7289cc5bd7f0238')]\n"
     ]
    }
   ],
   "source": [
    "my_dict = [{\"name\":\"ddochi\", \"address\":\"Seocho-dong, Seoul\"}, \n",
    "                  {\"name\":\"dounar\", \"address\":\"Samsung-dong, Seoul\"}, \n",
    "                  {\"name\":\"heedong\", \"address\":\"SSangmun-dong, Seoul\"}] \n",
    "x = mycol.insert_many(my_dict) \n",
    "print(x.inserted_ids)"
   ]
  },
  {
   "cell_type": "code",
   "execution_count": 14,
   "metadata": {},
   "outputs": [
    {
     "name": "stdout",
     "output_type": "stream",
     "text": [
      "<pymongo.results.InsertManyResult object at 0x7f68288d53c8>\n"
     ]
    }
   ],
   "source": [
    "print(x)"
   ]
  },
  {
   "cell_type": "code",
   "execution_count": 15,
   "metadata": {},
   "outputs": [
    {
     "name": "stdout",
     "output_type": "stream",
     "text": [
      "{'_id': ObjectId('5faa52acd7289cc5bd7f0234'), 'name': 'dooly', 'address': 'SSangmun-dong, Seoul'}\n",
      "{'_id': ObjectId('5faa532dd7289cc5bd7f0235'), 'name': 'gogildong', 'address': 'SSangmun-dong, Seoul'}\n",
      "{'_id': ObjectId('5faa5336d7289cc5bd7f0236'), 'name': 'ddochi', 'address': 'Seocho-dong, Seoul'}\n",
      "{'_id': ObjectId('5faa5336d7289cc5bd7f0237'), 'name': 'dounar', 'address': 'Samsung-dong, Seoul'}\n",
      "{'_id': ObjectId('5faa5336d7289cc5bd7f0238'), 'name': 'heedong', 'address': 'SSangmun-dong, Seoul'}\n"
     ]
    }
   ],
   "source": [
    "my_doc = mycol.find() \n",
    "for x in my_doc: \n",
    "   print(x)"
   ]
  },
  {
   "cell_type": "code",
   "execution_count": 16,
   "metadata": {},
   "outputs": [
    {
     "name": "stdout",
     "output_type": "stream",
     "text": [
      "{'_id': ObjectId('5faa5336d7289cc5bd7f0236'), 'name': 'ddochi', 'address': 'Seocho-dong, Seoul'}\n",
      "{'_id': ObjectId('5faa52acd7289cc5bd7f0234'), 'name': 'dooly', 'address': 'SSangmun-dong, Seoul'}\n",
      "{'_id': ObjectId('5faa5336d7289cc5bd7f0237'), 'name': 'dounar', 'address': 'Samsung-dong, Seoul'}\n",
      "{'_id': ObjectId('5faa532dd7289cc5bd7f0235'), 'name': 'gogildong', 'address': 'SSangmun-dong, Seoul'}\n",
      "{'_id': ObjectId('5faa5336d7289cc5bd7f0238'), 'name': 'heedong', 'address': 'SSangmun-dong, Seoul'}\n"
     ]
    }
   ],
   "source": [
    "my_doc = mycol.find().sort(\"name\") \n",
    "for x in my_doc: \n",
    "   print(x)"
   ]
  },
  {
   "cell_type": "code",
   "execution_count": 17,
   "metadata": {},
   "outputs": [
    {
     "name": "stdout",
     "output_type": "stream",
     "text": [
      "{'_id': ObjectId('5faa5336d7289cc5bd7f0238'), 'name': 'heedong', 'address': 'SSangmun-dong, Seoul'}\n",
      "{'_id': ObjectId('5faa532dd7289cc5bd7f0235'), 'name': 'gogildong', 'address': 'SSangmun-dong, Seoul'}\n",
      "{'_id': ObjectId('5faa5336d7289cc5bd7f0237'), 'name': 'dounar', 'address': 'Samsung-dong, Seoul'}\n",
      "{'_id': ObjectId('5faa52acd7289cc5bd7f0234'), 'name': 'dooly', 'address': 'SSangmun-dong, Seoul'}\n",
      "{'_id': ObjectId('5faa5336d7289cc5bd7f0236'), 'name': 'ddochi', 'address': 'Seocho-dong, Seoul'}\n"
     ]
    }
   ],
   "source": [
    "my_doc = mycol.find().sort(\"name\", -1) \n",
    "for x in my_doc: \n",
    "    print(x)"
   ]
  },
  {
   "cell_type": "code",
   "execution_count": 18,
   "metadata": {},
   "outputs": [
    {
     "name": "stdout",
     "output_type": "stream",
     "text": [
      "{'_id': ObjectId('5faa52acd7289cc5bd7f0234'), 'name': 'dooly', 'address': 'SSangmun-dong, Seoul'}\n",
      "{'_id': ObjectId('5faa532dd7289cc5bd7f0235'), 'name': 'gogildong', 'address': 'SSangmun-dong, Seoul'}\n",
      "{'_id': ObjectId('5faa5336d7289cc5bd7f0238'), 'name': 'heedong', 'address': 'SSangmun-dong, Seoul'}\n"
     ]
    }
   ],
   "source": [
    "my_query = {\"address\":\"SSangmun-dong, Seoul\"} \n",
    "my_doc = mycol.find(my_query) \n",
    "for x in my_doc: \n",
    "    print(x)"
   ]
  },
  {
   "cell_type": "code",
   "execution_count": 19,
   "metadata": {},
   "outputs": [
    {
     "name": "stdout",
     "output_type": "stream",
     "text": [
      "{'_id': ObjectId('5faa532dd7289cc5bd7f0235'), 'name': 'gogildong', 'address': 'SSangmun-dong, Seoul'}\n",
      "{'_id': ObjectId('5faa5336d7289cc5bd7f0238'), 'name': 'heedong', 'address': 'SSangmun-dong, Seoul'}\n"
     ]
    }
   ],
   "source": [
    "my_query = {\"name\":{\"$gt\":\"f\"}} \n",
    "my_doc = mycol.find(my_query) \n",
    "for x in my_doc: \n",
    "    print(x)"
   ]
  },
  {
   "cell_type": "code",
   "execution_count": 20,
   "metadata": {},
   "outputs": [
    {
     "name": "stdout",
     "output_type": "stream",
     "text": [
      "{'_id': ObjectId('5faa52acd7289cc5bd7f0234'), 'name': 'dooly', 'address': 'SSangmun-dong, Seoul'}\n",
      "{'_id': ObjectId('5faa5336d7289cc5bd7f0236'), 'name': 'ddochi', 'address': 'Seocho-dong, Seoul'}\n",
      "{'_id': ObjectId('5faa5336d7289cc5bd7f0237'), 'name': 'dounar', 'address': 'Samsung-dong, Seoul'}\n"
     ]
    }
   ],
   "source": [
    "my_query = {\"name\":{\"$regex\":\"^d\"}} \n",
    "my_doc = mycol.find(my_query) \n",
    "for x in my_doc: \n",
    "    print(x)"
   ]
  },
  {
   "cell_type": "code",
   "execution_count": 21,
   "metadata": {},
   "outputs": [],
   "source": [
    "my_client.close()"
   ]
  },
  {
   "cell_type": "markdown",
   "metadata": {},
   "source": [
    "## AWS의 MongoDB를 접속하는 또 다른 방법"
   ]
  },
  {
   "cell_type": "code",
   "execution_count": 22,
   "metadata": {},
   "outputs": [],
   "source": [
    "mongo_server=\"localhost\"\n",
    "connection = MongoClient(mongo_server, 27017)"
   ]
  },
  {
   "cell_type": "code",
   "execution_count": 23,
   "metadata": {},
   "outputs": [],
   "source": [
    "db = connection.lab12db  # 본인 계정명(labXXdb)으로 수정할것"
   ]
  },
  {
   "cell_type": "code",
   "execution_count": 24,
   "metadata": {},
   "outputs": [],
   "source": [
    "db = connection[\"lab12db\"]"
   ]
  },
  {
   "cell_type": "code",
   "execution_count": 25,
   "metadata": {},
   "outputs": [
    {
     "name": "stdout",
     "output_type": "stream",
     "text": [
      "Database(MongoClient(host=['localhost:27017'], document_class=dict, tz_aware=False, connect=True), 'lab12db')\n"
     ]
    }
   ],
   "source": [
    "print(db)"
   ]
  },
  {
   "cell_type": "code",
   "execution_count": 26,
   "metadata": {},
   "outputs": [
    {
     "name": "stdout",
     "output_type": "stream",
     "text": [
      "lab12db\n"
     ]
    }
   ],
   "source": [
    "print(db.name)"
   ]
  },
  {
   "cell_type": "code",
   "execution_count": 27,
   "metadata": {},
   "outputs": [],
   "source": [
    "test_collection = db.test_collection # test_collection = db[\"test_collection\"]"
   ]
  },
  {
   "cell_type": "code",
   "execution_count": 28,
   "metadata": {},
   "outputs": [
    {
     "data": {
      "text/plain": [
       "Collection(Database(MongoClient(host=['localhost:27017'], document_class=dict, tz_aware=False, connect=True), 'lab12db'), 'test_collection')"
      ]
     },
     "execution_count": 28,
     "metadata": {},
     "output_type": "execute_result"
    }
   ],
   "source": [
    "test_collection"
   ]
  },
  {
   "cell_type": "code",
   "execution_count": 29,
   "metadata": {},
   "outputs": [
    {
     "data": {
      "text/plain": [
       "<pymongo.results.InsertOneResult at 0x7f68288d51c8>"
      ]
     },
     "execution_count": 29,
     "metadata": {},
     "output_type": "execute_result"
    }
   ],
   "source": [
    "post = {\"author\": \"Mike\", \"text\": \"My first blog post!\", \"tags\": [\"mongodb\", \"python\", \"pymongo\"] }\n",
    "test_collection.insert_one(post)"
   ]
  },
  {
   "cell_type": "code",
   "execution_count": 30,
   "metadata": {},
   "outputs": [],
   "source": [
    "post = {\"author\": \"Dave\", \"text\": \"My first blog post!\", \"tags\": [\"mongodb\", \"python\", \"pymongo\"] }\n",
    "post_id = test_collection.insert_one(post).inserted_id"
   ]
  },
  {
   "cell_type": "code",
   "execution_count": 31,
   "metadata": {},
   "outputs": [
    {
     "data": {
      "text/plain": [
       "ObjectId('5faa53e2d7289cc5bd7f023b')"
      ]
     },
     "execution_count": 31,
     "metadata": {},
     "output_type": "execute_result"
    }
   ],
   "source": [
    "post_id"
   ]
  },
  {
   "cell_type": "code",
   "execution_count": 32,
   "metadata": {},
   "outputs": [
    {
     "data": {
      "text/plain": [
       "2"
      ]
     },
     "execution_count": 32,
     "metadata": {},
     "output_type": "execute_result"
    }
   ],
   "source": [
    "test_collection.count_documents({})   "
   ]
  },
  {
   "cell_type": "code",
   "execution_count": null,
   "metadata": {},
   "outputs": [],
   "source": [
    "result = test_collection.insert_many(\n",
    "    [\n",
    "        {'number': i} for i in range(10)\n",
    "    ]\n",
    ")"
   ]
  },
  {
   "cell_type": "code",
   "execution_count": null,
   "metadata": {},
   "outputs": [],
   "source": [
    "test_collection.count_documents({})  "
   ]
  },
  {
   "cell_type": "code",
   "execution_count": null,
   "metadata": {},
   "outputs": [],
   "source": [
    "myCursor = test_collection.find()\n",
    "myCursor"
   ]
  },
  {
   "cell_type": "code",
   "execution_count": null,
   "metadata": {},
   "outputs": [],
   "source": [
    "for doc in myCursor:\n",
    "    print(doc)"
   ]
  },
  {
   "cell_type": "code",
   "execution_count": null,
   "metadata": {},
   "outputs": [],
   "source": [
    "test_collection.find({\"author\": \"Mike\"})"
   ]
  },
  {
   "cell_type": "code",
   "execution_count": null,
   "metadata": {},
   "outputs": [],
   "source": [
    "test_collection.find_one({\"author\": \"Mike\"})"
   ]
  },
  {
   "cell_type": "code",
   "execution_count": null,
   "metadata": {},
   "outputs": [],
   "source": [
    "test_collection.count_documents({\"author\": \"Mike\"})"
   ]
  },
  {
   "cell_type": "code",
   "execution_count": null,
   "metadata": {},
   "outputs": [],
   "source": [
    "test_collection.find_one( {\"author\":\"Dave\"} )"
   ]
  },
  {
   "cell_type": "code",
   "execution_count": null,
   "metadata": {},
   "outputs": [],
   "source": [
    "test_collection.update_one(\n",
    "    { \"author\" : \"Dave\" }, \n",
    "    { \"$set\" : \n",
    "        { \"text\" : \"My second blog post!\" }\n",
    "    }\n",
    ")"
   ]
  },
  {
   "cell_type": "code",
   "execution_count": null,
   "metadata": {},
   "outputs": [],
   "source": [
    "test_collection.find_one( {\"author\":\"Dave\"} )"
   ]
  },
  {
   "cell_type": "code",
   "execution_count": null,
   "metadata": {},
   "outputs": [],
   "source": [
    "myCursor = test_collection.find()\n",
    "for doc in myCursor:\n",
    "    print(doc)"
   ]
  },
  {
   "cell_type": "code",
   "execution_count": null,
   "metadata": {},
   "outputs": [],
   "source": [
    "test_collection.update_one({'id':'5'}, {'$set': {'id':'5','name':'kim2'}}, upsert=True) # id가 5인 데이터가 존재하면 {'id':'5','name':'kim'}로 update를 하고 존재하지 않으면 insert"
   ]
  },
  {
   "cell_type": "code",
   "execution_count": null,
   "metadata": {},
   "outputs": [],
   "source": [
    "myCursor = test_collection.find()\n",
    "for doc in myCursor:\n",
    "    print(doc)"
   ]
  },
  {
   "cell_type": "code",
   "execution_count": null,
   "metadata": {},
   "outputs": [],
   "source": [
    "test_collection.delete_many( {\"number\": { \"$gt\": 6 } } )"
   ]
  },
  {
   "cell_type": "code",
   "execution_count": null,
   "metadata": {},
   "outputs": [],
   "source": [
    "myCursor = test_collection.find()\n",
    "for doc in myCursor:\n",
    "    print(doc)"
   ]
  },
  {
   "cell_type": "markdown",
   "metadata": {},
   "source": [
    "## 다음 코드와 같이 수행하면 test_insert 라는 컬렉션을 생성하거나 가져오게 됨"
   ]
  },
  {
   "cell_type": "code",
   "execution_count": null,
   "metadata": {},
   "outputs": [],
   "source": [
    "test_insert_collection = db.test_insert"
   ]
  },
  {
   "cell_type": "code",
   "execution_count": null,
   "metadata": {},
   "outputs": [],
   "source": [
    "test_insert_collection.insert_one({'title' : '암살', 'castings' : ['이정재', '전지현', '하정우']})"
   ]
  },
  {
   "cell_type": "code",
   "execution_count": null,
   "metadata": {},
   "outputs": [],
   "source": [
    "test_insert_collection.insert_one({'title' : '실미도', 'castings' : ['설경구', '안성기'], \n",
    "                              'datetime' : {'year' : '2003', 'month' : 3,\n",
    "                                           'val' : {'a' :{'b' : 1}}}})"
   ]
  },
  {
   "cell_type": "code",
   "execution_count": null,
   "metadata": {},
   "outputs": [],
   "source": [
    "data1 = []\n",
    "data1.append({'name' : 'aaron', 'age' : 20})\n",
    "data1.append({'name' : 'bob', 'age' : 30})\n",
    "data1.append({'name' : 'cathy', 'age' : 25})\n",
    "data1.append({'name' : 'david', 'age' : 27})\n",
    "data1.append({'name' : 'erick', 'age' : 28})\n",
    "data1.append({'name' : 'fox', 'age' : 32})\n",
    "data1.append({'name' : 'hmm'})"
   ]
  },
  {
   "cell_type": "code",
   "execution_count": null,
   "metadata": {},
   "outputs": [],
   "source": [
    "test_insert_collection.insert_many(data1)"
   ]
  },
  {
   "cell_type": "code",
   "execution_count": null,
   "metadata": {},
   "outputs": [],
   "source": [
    "data = test_insert_collection.find()\n",
    "for result in data:\n",
    "    print(result)"
   ]
  },
  {
   "cell_type": "code",
   "execution_count": null,
   "metadata": {},
   "outputs": [],
   "source": [
    "data = test_insert_collection.find()"
   ]
  },
  {
   "cell_type": "code",
   "execution_count": null,
   "metadata": {},
   "outputs": [],
   "source": [
    "data"
   ]
  },
  {
   "cell_type": "code",
   "execution_count": null,
   "metadata": {},
   "outputs": [],
   "source": [
    "results = test_insert_collection.find({\"age\": {\"$gt\":25}})\n",
    "\n",
    "for result in results:\n",
    "  print (result)"
   ]
  },
  {
   "cell_type": "markdown",
   "metadata": {},
   "source": [
    "## 이 코드들은 실행시키지 않고 점검만 하지요"
   ]
  },
  {
   "cell_type": "code",
   "execution_count": null,
   "metadata": {},
   "outputs": [],
   "source": [
    "def insert_item_one(mongo, data, db_name=None, collection_name=None):\n",
    "    result = mongo[db_name][collection_name].insert_one(data).inserted_id\n",
    "    return result\n",
    "\n",
    "def insert_item_many(mongo, datas, db_name=None, collection_name=None):\n",
    "    result = mongo[db_name][collection_name].insert_many(datas).inserted_ids\n",
    "    return result\n",
    "    \n",
    "host = \"52.79.49.175\"\n",
    "port = \"27017\"\n",
    "mongo = MongoClient(host, int(port))\n",
    "print(mongo)\n",
    "\n",
    "insert_item_one(mongo, {\"text\": \"Hello Python\"}, \"test\", \"test\")"
   ]
  },
  {
   "cell_type": "code",
   "execution_count": null,
   "metadata": {},
   "outputs": [],
   "source": [
    "def find_item_one(mongo, condition=None, db_name=None, collection_name=None):\n",
    "    result = mongo[db_name][collection_name].find_one(condition, {\"_id\": False})\n",
    "    return result\n",
    "\n",
    "def find_item(mongo, condition=None, db_name=None, collection_name=None):\n",
    "    result = mongo[db_name][collection_name].find(condition, {\"_id\": False}, no_cursor_timeout=True, cursor_type=CursorType.EXHAUST)\n",
    "    return result\n",
    "\n",
    "host = \"localhost\"\n",
    "port = \"27017\"\n",
    "mongo = MongoClient(host, int(port))\n",
    "\n",
    "cursor = find_item(mongo, None, \"test\", \"test\")\n",
    "for list in cursor:\n",
    "\tprint(list[\"text\"])"
   ]
  },
  {
   "cell_type": "code",
   "execution_count": null,
   "metadata": {},
   "outputs": [],
   "source": [
    "delete_item_many(mongo, {}, \"test\", \"test\")"
   ]
  },
  {
   "cell_type": "code",
   "execution_count": null,
   "metadata": {},
   "outputs": [],
   "source": [
    "def update_item_one(mongo, condition=None, update_value=None, db_name=None, collection_name=None):\n",
    "    result = mongo[db_name][collection_name].update_one(filter=condition, update=update_value)\n",
    "    return result\n",
    "\n",
    "def update_item_many(mongo, condition=None, update_value=None, db_name=None, collection_name=None):\n",
    "    result = mongo[db_name][collection_name].update_many(filter=condition, update=update_value)\n",
    "    return result\n",
    "    \n",
    "host = \"localhost\"\n",
    "port = \"27017\"\n",
    "mongo = MongoClient(host, int(port))\n",
    "\n",
    "update_item_one(mongo, {\"text\": \"Hello Python\"}, { \"$set\": {\"text\": \"Hello Kotlin\"}}, \"test\", \"test\")"
   ]
  },
  {
   "cell_type": "code",
   "execution_count": null,
   "metadata": {},
   "outputs": [],
   "source": [
    "def text_search(mongo, text=None, db_name=None, collection_name=None):\n",
    "    result = mongo[db_name][collection_name].find({\"$text\": {\"$search\": text}})\n",
    "    return result\n",
    "\n",
    "host = \"localhost\"\n",
    "port = \"27017\"\n",
    "mongo = MongoClient(host, int(port))\n",
    "\n",
    "cursor = text_search(mongo, \"Hello\", \"test\", \"test\")\n",
    "for list in cursor:\n",
    "\tprint(list)"
   ]
  },
  {
   "cell_type": "code",
   "execution_count": null,
   "metadata": {},
   "outputs": [],
   "source": [
    "class DBHandler:\n",
    "    def __init__(self):\n",
    "        host = \"localhost\"\n",
    "        port = \"27017\"\n",
    "        self.client = MongoClient(host, int(port))\n",
    "\n",
    "    def insert_item_one(self, data, db_name=None, collection_name=None):\n",
    "        result = self.client[db_name][collection_name].insert_one(data).inserted_id\n",
    "        return result\n",
    "\n",
    "    def insert_item_many(self, datas, db_name=None, collection_name=None):\n",
    "        result = self.client[db_name][collection_name].insert_many(datas).inserted_ids\n",
    "        return result\n",
    "\n",
    "    def find_item_one(self, condition=None, db_name=None, collection_name=None):\n",
    "        result = self.client[db_name][collection_name].find_one(condition, {\"_id\": False})\n",
    "        return result\n",
    "\n",
    "    def find_item(self, condition=None, db_name=None, collection_name=None):\n",
    "        result = self.client[db_name][collection_name].find(condition, {\"_id\": False}, no_cursor_timeout=True, cursor_type=CursorType.EXHAUST)\n",
    "        return result\n",
    "\n",
    "    def delete_item_one(self, condition=None, db_name=None, collection_name=None):\n",
    "        result = self.client[db_name][collection_name].delete_one(condition)\n",
    "        return result\n",
    "\n",
    "    def delete_item_many(self, condition=None, db_name=None, collection_name=None):\n",
    "        result = self.client[db_name][collection_name].delete_many(condition)\n",
    "        return result\n",
    "\n",
    "    def update_item_one(self, condition=None, update_value=None, db_name=None, collection_name=None):\n",
    "        result = self.client[db_name][collection_name].update_one(filter=condition, update=update_value)\n",
    "        return result\n",
    "\n",
    "    def update_item_many(self, condition=None, update_value=None, db_name=None, collection_name=None):\n",
    "        result = self.client[db_name][collection_name].update_many(filter=condition, update=update_value)\n",
    "        return result\n",
    "\n",
    "    def text_search(self, text=None, db_name=None, collection_name=None):\n",
    "        result = self.client[db_name][collection_name].find({\"$text\": {\"$search\": text}})\n",
    "        return result"
   ]
  },
  {
   "cell_type": "code",
   "execution_count": null,
   "metadata": {},
   "outputs": [],
   "source": [
    "mongo = DBHandler()\n",
    "mongo.find_item_one(None, \"test\", \"test\")"
   ]
  },
  {
   "cell_type": "markdown",
   "metadata": {},
   "source": [
    "## 여기까지요~ (이 코드들은 실행시키지 않고 점검만 하지요)"
   ]
  },
  {
   "cell_type": "code",
   "execution_count": 33,
   "metadata": {},
   "outputs": [],
   "source": [
    "import json\n",
    "with open('data/hankuk1_geo.json', encoding='UTF-8') as file: \n",
    "    file_data = json.load(file) "
   ]
  },
  {
   "cell_type": "code",
   "execution_count": 34,
   "metadata": {},
   "outputs": [],
   "source": [
    "mydb = my_client['lab12db']   # 본인 계정명(labXXdb)으로 수정할것\n",
    "mycollection = mydb['geo'] "
   ]
  },
  {
   "cell_type": "code",
   "execution_count": 35,
   "metadata": {},
   "outputs": [],
   "source": [
    "import builtins\n",
    "if isinstance(file_data, builtins.list): \n",
    "    mycollection.insert_many(file_data)   \n",
    "else: \n",
    "    mycollection.insert_one(file_data) "
   ]
  },
  {
   "cell_type": "code",
   "execution_count": 36,
   "metadata": {},
   "outputs": [],
   "source": [
    "result = mycollection.find({})"
   ]
  },
  {
   "cell_type": "code",
   "execution_count": null,
   "metadata": {},
   "outputs": [],
   "source": [
    "for dd in result:\n",
    "    print(dd)"
   ]
  },
  {
   "cell_type": "markdown",
   "metadata": {},
   "source": [
    "## AWS의 MongoDB 에 저장된 센서 데이터 활용"
   ]
  },
  {
   "cell_type": "code",
   "execution_count": 38,
   "metadata": {},
   "outputs": [],
   "source": [
    "import pandas as pd"
   ]
  },
  {
   "cell_type": "code",
   "execution_count": 39,
   "metadata": {},
   "outputs": [],
   "source": [
    "from pymongo import MongoClient \n",
    "my_client = MongoClient(\"mongodb://52.79.49.175:27017/\") # 수정하지 않고 합니다."
   ]
  },
  {
   "cell_type": "code",
   "execution_count": 40,
   "metadata": {},
   "outputs": [
    {
     "name": "stdout",
     "output_type": "stream",
     "text": [
      "['DATA_RECOVERY', 'admin', 'config', 'imsi', 'iot_service', 'testdb_tutor', 'tutordb', '여러분의리눅스계정명db']\n"
     ]
    }
   ],
   "source": [
    "print(my_client.list_database_names()) "
   ]
  },
  {
   "cell_type": "code",
   "execution_count": 41,
   "metadata": {},
   "outputs": [],
   "source": [
    "mydb = my_client['iot_service']   # 본인 계정명(labXXdb)으로 수정할것\n",
    "mycollection = mydb['sensors'] \n",
    "sensordata = mycollection.find({})"
   ]
  },
  {
   "cell_type": "code",
   "execution_count": 42,
   "metadata": {},
   "outputs": [
    {
     "data": {
      "text/plain": [
       "<pymongo.cursor.Cursor at 0x7f67f61d05f8>"
      ]
     },
     "execution_count": 42,
     "metadata": {},
     "output_type": "execute_result"
    }
   ],
   "source": [
    "sensordata"
   ]
  },
  {
   "cell_type": "code",
   "execution_count": null,
   "metadata": {},
   "outputs": [],
   "source": [
    "for data in sensordata:\n",
    "    print(data)"
   ]
  },
  {
   "cell_type": "code",
   "execution_count": null,
   "metadata": {},
   "outputs": [],
   "source": [
    "df =  pd.DataFrame.from_records(sensordata)"
   ]
  },
  {
   "cell_type": "code",
   "execution_count": null,
   "metadata": {},
   "outputs": [],
   "source": [
    "display(df)"
   ]
  },
  {
   "cell_type": "code",
   "execution_count": null,
   "metadata": {},
   "outputs": [],
   "source": [
    "df.drop(['_id'], axis='columns', inplace=True)"
   ]
  },
  {
   "cell_type": "code",
   "execution_count": null,
   "metadata": {},
   "outputs": [],
   "source": [
    "display(df)"
   ]
  },
  {
   "cell_type": "code",
   "execution_count": null,
   "metadata": {},
   "outputs": [],
   "source": [
    "df.info()"
   ]
  },
  {
   "cell_type": "code",
   "execution_count": null,
   "metadata": {},
   "outputs": [],
   "source": [
    "df.set_index(\"reg_date\", inplace=True)"
   ]
  },
  {
   "cell_type": "code",
   "execution_count": null,
   "metadata": {},
   "outputs": [],
   "source": [
    "display(df)"
   ]
  },
  {
   "cell_type": "code",
   "execution_count": null,
   "metadata": {},
   "outputs": [],
   "source": [
    "newdf = pd.pivot_table(df, index='reg_date', columns='topic', values='value')\n"
   ]
  },
  {
   "cell_type": "code",
   "execution_count": null,
   "metadata": {},
   "outputs": [],
   "source": [
    "display(newdf)"
   ]
  },
  {
   "cell_type": "code",
   "execution_count": null,
   "metadata": {},
   "outputs": [],
   "source": [
    "newdf.fillna(method='ffill', inplace=True)"
   ]
  },
  {
   "cell_type": "code",
   "execution_count": null,
   "metadata": {},
   "outputs": [],
   "source": [
    "newdf.fillna(method='bfill', inplace=True)"
   ]
  },
  {
   "cell_type": "code",
   "execution_count": null,
   "metadata": {},
   "outputs": [],
   "source": [
    "from matplotlib import font_manager, rc\n",
    "font_path = \"data/THEdog.ttf\"   #폰트파일의 위치\n",
    "font_name = font_manager.FontProperties(fname=font_path).get_name()\n",
    "rc('font', family=font_name)"
   ]
  },
  {
   "cell_type": "code",
   "execution_count": null,
   "metadata": {},
   "outputs": [],
   "source": [
    "import matplotlib.pyplot as plt\n",
    "fig, ax = plt.subplots(1, 2, figsize=(20, 5)) \n",
    "# 0번 그래프 \n",
    "ax[0].plot(newdf.index, newdf['iot/humi'], color='C0') \n",
    "ax[0].set_title(\"3의간의 습도 데이터 그래프\", size=25, color='C0') \n",
    "ax[0].set_xlabel(\"시간\", size=15) \n",
    "ax[0].set_ylabel(\"습도\", size=15) \n",
    "# 1번 그래프 \n",
    "ax[1].plot(newdf.index, newdf['iot/temp'], color='C1') \n",
    "ax[1].set_title(\"3의간의 온도 데이터 그래프\", size=25, color='C1') \n",
    "ax[1].set_xlabel(\"시간\", size=15) \n",
    "ax[1].set_ylabel(\"온도\", size=15)\n",
    "plt.show()"
   ]
  },
  {
   "cell_type": "code",
   "execution_count": null,
   "metadata": {},
   "outputs": [],
   "source": []
  }
 ],
 "metadata": {
  "kernelspec": {
   "display_name": "awsvenv",
   "language": "python",
   "name": "awsvenv"
  },
  "language_info": {
   "codemirror_mode": {
    "name": "ipython",
    "version": 3
   },
   "file_extension": ".py",
   "mimetype": "text/x-python",
   "name": "python",
   "nbconvert_exporter": "python",
   "pygments_lexer": "ipython3",
   "version": "3.6.12"
  }
 },
 "nbformat": 4,
 "nbformat_minor": 4
}
