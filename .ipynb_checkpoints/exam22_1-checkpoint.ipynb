{
 "cells": [
  {
   "cell_type": "markdown",
   "metadata": {},
   "source": [
    "# 연관분석(장바구니분석)"
   ]
  },
  {
   "cell_type": "markdown",
   "metadata": {},
   "source": [
    "## 빈발항목집합을 추출하는 Apriori algorithm 의 원리"
   ]
  },
  {
   "cell_type": "markdown",
   "metadata": {},
   "source": [
    "### 최소지지도 이상을 갖는 항목집합을 빈발항목집합(frequent item set)이라고 한다.\n",
    "### 모든 항목집합에 대한 지지도를 계산하는 대신에 최소 지지도 이상의 빈발항목집합만을 찾아내서 연관규칙을 계산하는 것이 \n",
    "### Apriori algorithm의 주요 내용이다.\n",
    "\n",
    "### [ 빈발항목집합 추출의 Apriori Principle ]\n",
    "\n",
    "#### (1) 한 항목집합이 빈발(frequent)하다면 이 항목집합의 모든 부분집합은 역시 빈발항목집합이다.\n",
    "####    (frequent item sets -> next step) \n",
    "#### (2) 한 항목집합이 비비발(infrequent)하다면 이 항목집합을 포함하는 모든 집합은 비빈발항목집합이다. \n",
    "####    (superset -> pruning) "
   ]
  },
  {
   "cell_type": "markdown",
   "metadata": {},
   "source": [
    "## 지지도(support) s(X→Y) \n",
    "\n",
    "### X와 Y를 모두 포함하는 거래 수 / 전체 거래 수  \n",
    "\n",
    "## 신뢰도(Confidence) c(X→Y) \n",
    "\n",
    "### X와 Y를 모두 포함하는 거래 수 / X가 포함된 거래 수\n",
    "\n",
    "## 향상도(Lift)\n",
    "\n",
    "### 연관규칙의 신뢰도/지지도 \n"
   ]
  },
  {
   "cell_type": "markdown",
   "metadata": {},
   "source": [
    "![edu1](images/edu1.png)"
   ]
  },
  {
   "cell_type": "code",
   "execution_count": null,
   "metadata": {
    "jupyter": {
     "source_hidden": true
    }
   },
   "outputs": [],
   "source": [
    "import pandas as pd"
   ]
  },
  {
   "cell_type": "code",
   "execution_count": null,
   "metadata": {},
   "outputs": [],
   "source": [
    "from apyori import apriori\n",
    "\n",
    "baskets = [\n",
    "    ['Milk', 'Tea', 'Cake'],\n",
    "    ['Eggs', 'Tea', 'Cold Drink'],\n",
    "    ['Milk', 'Eggs', 'Tea', 'Cold Drink'],\n",
    "    ['Eggs', 'Cold Drink'],\n",
    "    ['Juice']\n",
    "]\n",
    "association_result = list(apriori(baskets, min_support=0.4))"
   ]
  },
  {
   "cell_type": "code",
   "execution_count": null,
   "metadata": {},
   "outputs": [],
   "source": [
    "columns = ['source', 'target', 'support']\n",
    "network_df = pd.DataFrame(columns=columns)\n",
    "for result in  association_result:\n",
    "    if len(result.items) == 2:\n",
    "        items = [x for x in result.items]\n",
    "        row = [items[0], items[1], result.support]\n",
    "        series = pd.Series(row, index=network_df.columns)\n",
    "        network_df = network_df.append(series, ignore_index=True)\n",
    "network_df.head(10)"
   ]
  },
  {
   "cell_type": "markdown",
   "metadata": {},
   "source": [
    "![edu1](images/edu2.png)"
   ]
  },
  {
   "cell_type": "code",
   "execution_count": null,
   "metadata": {},
   "outputs": [],
   "source": [
    "from apyori import apriori\n",
    "\n",
    "baskets = [\n",
    "    ['Milk', 'Tea', 'Cake'],\n",
    "    ['Eggs', 'Tea', 'Cold Drink'],\n",
    "    ['Milk', 'Eggs', 'Tea', 'Cold Drink'],\n",
    "    ['Eggs', 'Cold Drink'],\n",
    "    ['Juice']\n",
    "]\n",
    "association_result = list(apriori(baskets, min_support=0.6))"
   ]
  },
  {
   "cell_type": "code",
   "execution_count": null,
   "metadata": {},
   "outputs": [],
   "source": [
    "columns = ['source', 'target', 'support']\n",
    "network_df = pd.DataFrame(columns=columns)\n",
    "for result in  association_result:\n",
    "    if len(result.items) == 2:\n",
    "        items = [x for x in result.items]\n",
    "        row = [items[0], items[1], result.support]\n",
    "        series = pd.Series(row, index=network_df.columns)\n",
    "        network_df = network_df.append(series, ignore_index=True)\n",
    "network_df.head(10)"
   ]
  },
  {
   "cell_type": "code",
   "execution_count": null,
   "metadata": {},
   "outputs": [],
   "source": [
    "from apyori import apriori\n",
    "\n",
    "baskets = [\n",
    "    ['계란', '우유'],\n",
    "    ['계란', '기저귀', '맥주', '사과'],\n",
    "    ['우유', '기저귀', '맥주', '콜라'],\n",
    "    ['계란', '우유', '맥주', '기저귀'],\n",
    "    ['계란', '우유', '멕주', '콜라']\n",
    "]\n",
    "association_result = list(apriori(baskets, min_support=0.4))"
   ]
  },
  {
   "cell_type": "code",
   "execution_count": null,
   "metadata": {},
   "outputs": [],
   "source": [
    "association_result"
   ]
  },
  {
   "cell_type": "code",
   "execution_count": null,
   "metadata": {},
   "outputs": [],
   "source": [
    "columns = ['source', 'target', 'support']\n",
    "network_df = pd.DataFrame(columns=columns)\n",
    "for result in  association_result:\n",
    "    if len(result.items) == 2:\n",
    "        items = [x for x in result.items]\n",
    "        row = [items[0], items[1], result.support]\n",
    "        series = pd.Series(row, index=network_df.columns)\n",
    "        network_df = network_df.append(series, ignore_index=True)\n",
    "network_df.head(10)"
   ]
  },
  {
   "cell_type": "code",
   "execution_count": null,
   "metadata": {},
   "outputs": [],
   "source": [
    "import pandas as pd\n",
    "from mlxtend.preprocessing import TransactionEncoder\n",
    "from mlxtend.frequent_patterns import apriori"
   ]
  },
  {
   "cell_type": "code",
   "execution_count": null,
   "metadata": {},
   "outputs": [],
   "source": [
    "dataset= [['양말','팬티','신발'],\n",
    "         ['신발','바지','팬티','셔츠'],\n",
    "         ['모자','양말','신발'],\n",
    "         ['신발','바지','팬티','장갑']]"
   ]
  },
  {
   "cell_type": "code",
   "execution_count": null,
   "metadata": {},
   "outputs": [],
   "source": [
    "t = TransactionEncoder()\n",
    "t_a = t.fit(dataset).transform(dataset)\n",
    "df = pd.DataFrame(t_a, columns = t.columns_)\n",
    "df"
   ]
  },
  {
   "cell_type": "code",
   "execution_count": null,
   "metadata": {},
   "outputs": [],
   "source": [
    "frequent = apriori(df, min_support=0.5, use_colnames=True)\n",
    "frequent"
   ]
  }
 ],
 "metadata": {
  "kernelspec": {
   "display_name": "pydatavenv",
   "language": "python",
   "name": "pydatavenv"
  },
  "language_info": {
   "codemirror_mode": {
    "name": "ipython",
    "version": 3
   },
   "file_extension": ".py",
   "mimetype": "text/x-python",
   "name": "python",
   "nbconvert_exporter": "python",
   "pygments_lexer": "ipython3",
   "version": "3.7.9"
  }
 },
 "nbformat": 4,
 "nbformat_minor": 4
}
