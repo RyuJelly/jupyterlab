{
 "cells": [
  {
   "cell_type": "markdown",
   "metadata": {},
   "source": [
    "# **pymysql을 이용한 MariaDB 연동**\n",
    "### connect() 함수를 이용하면 MySQL host내 DB와 직접 연결할 수 있다.\n",
    "\n",
    "###    user: user name\n",
    "###    passwd: 설정한 패스워드\n",
    "###    host: DB가 존재하는 host\n",
    "###    db: 연결할 데이터베이스 이름\n",
    "###    charset: 인코딩 설정"
   ]
  },
  {
   "cell_type": "code",
   "execution_count": 1,
   "metadata": {},
   "outputs": [
    {
     "name": "stdout",
     "output_type": "stream",
     "text": [
      "<pymysql.connections.Connection object at 0x000001FB6460E848>\n"
     ]
    }
   ],
   "source": [
    "import pymysql\n",
    "conn = pymysql.connect(host='multi-bigdata.cljkqcsbb9ok.ap-northeast-2.rds.amazonaws.com',port=3306,user='edu12',passwd='edu12', db='unicodb')\n",
    "print(conn)"
   ]
  },
  {
   "cell_type": "code",
   "execution_count": 2,
   "metadata": {},
   "outputs": [
    {
     "name": "stdout",
     "output_type": "stream",
     "text": [
      "<class 'pymysql.cursors.Cursor'>\n",
      "-----------------------\n",
      "<class 'tuple'>\n",
      "(('7369', 'SMITH', 'CLERK', '7902', datetime.date(1980, 12, 17), 800, None, '20'), ('7499', 'ALLEN', 'SALESMAN', '7698', datetime.date(1981, 2, 20), 1600, 300, '30'), ('7521', 'WARD', 'SALESMAN', '7698', datetime.date(1981, 2, 3), 1250, 500, '30'), ('7566', 'JONES', 'MANAGER', '7839', datetime.date(1981, 3, 2), 2975, None, '20'), ('7654', 'MARTIN', 'SALESMAN', '7698', datetime.date(1981, 10, 22), 1250, 1400, '30'), ('7698', 'BLAKE', 'MANAGER', '7839', datetime.date(1981, 5, 1), 2850, None, '30'), ('7782', 'CLARK', 'MANAGER', '7839', datetime.date(1981, 9, 6), 2450, None, '10'), ('7788', 'SCOTT', 'ANALYST', '7566', datetime.date(1982, 12, 8), 3000, None, '20'), ('7839', 'KING', 'PRESIDENT', None, datetime.date(1981, 11, 17), 5000, None, '10'), ('7844', 'TURNER', 'SALESMAN', '7698', datetime.date(1984, 10, 8), 1500, None, '30'), ('7876', 'ADAMS', 'CLERK', '7788', datetime.date(1983, 1, 12), 1100, None, '20'), ('7900', 'JAMES', 'CLERK', '7698', datetime.date(1981, 12, 3), 950, None, '30'), ('7902', 'FORD', 'ANALYST', '7566', datetime.date(1981, 12, 13), 3000, None, '20'), ('7788', 'SCOTT', 'ANALYST', '7566', datetime.date(1987, 4, 19), 3000, None, '20'), ('7876', 'DOOLY', 'CLERK', None, datetime.date(1987, 5, 23), 1100, None, None), ('7934', 'DUKE', 'CLERK', '7782', datetime.date(1982, 1, 25), 1300, None, '10'))\n",
      "----------------------------------------------\n",
      "<class 'tuple'>\n",
      "('7369', 'SMITH', 'CLERK', '7902', datetime.date(1980, 12, 17), 800, None, '20')\n",
      "----------------------------------------------\n",
      "16\n",
      "8\n",
      "----------------------------------------------\n",
      "7369 SMITH CLERK 7902 1980-12-17 800 None 20\n",
      "7499 ALLEN SALESMAN 7698 1981-02-20 1600 300 30\n",
      "7521 WARD SALESMAN 7698 1981-02-03 1250 500 30\n",
      "7566 JONES MANAGER 7839 1981-03-02 2975 None 20\n",
      "7654 MARTIN SALESMAN 7698 1981-10-22 1250 1400 30\n",
      "7698 BLAKE MANAGER 7839 1981-05-01 2850 None 30\n",
      "7782 CLARK MANAGER 7839 1981-09-06 2450 None 10\n",
      "7788 SCOTT ANALYST 7566 1982-12-08 3000 None 20\n",
      "7839 KING PRESIDENT None 1981-11-17 5000 None 10\n",
      "7844 TURNER SALESMAN 7698 1984-10-08 1500 None 30\n",
      "7876 ADAMS CLERK 7788 1983-01-12 1100 None 20\n",
      "7900 JAMES CLERK 7698 1981-12-03 950 None 30\n",
      "7902 FORD ANALYST 7566 1981-12-13 3000 None 20\n",
      "7788 SCOTT ANALYST 7566 1987-04-19 3000 None 20\n",
      "7876 DOOLY CLERK None 1987-05-23 1100 None None\n",
      "7934 DUKE CLERK 7782 1982-01-25 1300 None 10\n"
     ]
    }
   ],
   "source": [
    "import pymysql\n",
    "conn = pymysql.connect(host='multi-bigdata.cljkqcsbb9ok.ap-northeast-2.rds.amazonaws.com',port=3306,user='edu12',passwd='edu12', db='unicodb')\n",
    "try:\n",
    "    cur = conn.cursor()\n",
    "    print(type(cur))\n",
    "    print(\"-----------------------\")\n",
    "    sql = 'SELECT * FROM emp'\n",
    "    cur.execute(sql)\n",
    "    result = cur.fetchall()\n",
    "    print(type(result))\n",
    "    print(result)\n",
    "    print(\"----------------------------------------------\")\n",
    "    print(type(result[0]))\n",
    "    print(result[0])\n",
    "    print(\"----------------------------------------------\")\n",
    "    print(len(result))\n",
    "    print(len(result[0]))\n",
    "    print(\"----------------------------------------------\")\n",
    "    for row in result:        \n",
    "        print(f'{row[0]} {row[1]} {row[2]} {row[3]} {row[4]} {row[5]} {row[6]} {row[7]}')\n",
    "finally:\n",
    "    conn.close()"
   ]
  },
  {
   "cell_type": "markdown",
   "metadata": {},
   "source": [
    "## Cursor 객체 생성\n",
    "### 연결한 DB와 상호작용하기 위해 cursor 객체를 생성해주어야 한다.\n",
    "### 다양한 커서의 종류가 있지만,\n",
    "### 데이터 분석가에게 익숙한 데이터프레임 형태로 결과를 쉽게 변환할 수 있도록\n",
    "### **딕셔너리** 형태로 결과를 반환해주는 **DictCursor**객체를 주로 사용한다.\n",
    "### 일반 **Cursor**객체를 사용하면 결과가 일반적으로는 **튜플** 형태로 리턴된다.\n",
    "----\n",
    "### SELECT 명령을 위해 SQL 문을 따로 변수에 넣어주고 cursor.execute(sql) 을 사용해 SQL를 실행한다.\n",
    "### 실행한 결과를 fetchall(), fetchone() 등으로 받아 온다.\n",
    "\n",
    "### **fetchall()** - 모든 데이터를 한 번에 가져올 때 사용\n",
    "### **fetchone()** - 한 번 호출에 하나의 행만 가져올 때 사용\n",
    "### **fetchmany(n)** - n개만큼의 데이터를 가져올 때 사용"
   ]
  },
  {
   "cell_type": "code",
   "execution_count": 3,
   "metadata": {},
   "outputs": [
    {
     "name": "stdout",
     "output_type": "stream",
     "text": [
      "<class 'pymysql.cursors.DictCursor'>\n",
      "-----------------------\n",
      "<class 'list'>\n",
      "[{'empno': '7369', 'ename': 'SMITH', 'job': 'CLERK', 'mgr': '7902', 'hiredate': datetime.date(1980, 12, 17), 'sal': 800, 'comm': None, 'deptno': '20'}, {'empno': '7499', 'ename': 'ALLEN', 'job': 'SALESMAN', 'mgr': '7698', 'hiredate': datetime.date(1981, 2, 20), 'sal': 1600, 'comm': 300, 'deptno': '30'}, {'empno': '7521', 'ename': 'WARD', 'job': 'SALESMAN', 'mgr': '7698', 'hiredate': datetime.date(1981, 2, 3), 'sal': 1250, 'comm': 500, 'deptno': '30'}, {'empno': '7566', 'ename': 'JONES', 'job': 'MANAGER', 'mgr': '7839', 'hiredate': datetime.date(1981, 3, 2), 'sal': 2975, 'comm': None, 'deptno': '20'}, {'empno': '7654', 'ename': 'MARTIN', 'job': 'SALESMAN', 'mgr': '7698', 'hiredate': datetime.date(1981, 10, 22), 'sal': 1250, 'comm': 1400, 'deptno': '30'}, {'empno': '7698', 'ename': 'BLAKE', 'job': 'MANAGER', 'mgr': '7839', 'hiredate': datetime.date(1981, 5, 1), 'sal': 2850, 'comm': None, 'deptno': '30'}, {'empno': '7782', 'ename': 'CLARK', 'job': 'MANAGER', 'mgr': '7839', 'hiredate': datetime.date(1981, 9, 6), 'sal': 2450, 'comm': None, 'deptno': '10'}, {'empno': '7788', 'ename': 'SCOTT', 'job': 'ANALYST', 'mgr': '7566', 'hiredate': datetime.date(1982, 12, 8), 'sal': 3000, 'comm': None, 'deptno': '20'}, {'empno': '7839', 'ename': 'KING', 'job': 'PRESIDENT', 'mgr': None, 'hiredate': datetime.date(1981, 11, 17), 'sal': 5000, 'comm': None, 'deptno': '10'}, {'empno': '7844', 'ename': 'TURNER', 'job': 'SALESMAN', 'mgr': '7698', 'hiredate': datetime.date(1984, 10, 8), 'sal': 1500, 'comm': None, 'deptno': '30'}, {'empno': '7876', 'ename': 'ADAMS', 'job': 'CLERK', 'mgr': '7788', 'hiredate': datetime.date(1983, 1, 12), 'sal': 1100, 'comm': None, 'deptno': '20'}, {'empno': '7900', 'ename': 'JAMES', 'job': 'CLERK', 'mgr': '7698', 'hiredate': datetime.date(1981, 12, 3), 'sal': 950, 'comm': None, 'deptno': '30'}, {'empno': '7902', 'ename': 'FORD', 'job': 'ANALYST', 'mgr': '7566', 'hiredate': datetime.date(1981, 12, 13), 'sal': 3000, 'comm': None, 'deptno': '20'}, {'empno': '7788', 'ename': 'SCOTT', 'job': 'ANALYST', 'mgr': '7566', 'hiredate': datetime.date(1987, 4, 19), 'sal': 3000, 'comm': None, 'deptno': '20'}, {'empno': '7876', 'ename': 'DOOLY', 'job': 'CLERK', 'mgr': None, 'hiredate': datetime.date(1987, 5, 23), 'sal': 1100, 'comm': None, 'deptno': None}, {'empno': '7934', 'ename': 'DUKE', 'job': 'CLERK', 'mgr': '7782', 'hiredate': datetime.date(1982, 1, 25), 'sal': 1300, 'comm': None, 'deptno': '10'}]\n",
      "----------------------------------------------\n",
      "<class 'dict'>\n",
      "{'empno': '7369', 'ename': 'SMITH', 'job': 'CLERK', 'mgr': '7902', 'hiredate': datetime.date(1980, 12, 17), 'sal': 800, 'comm': None, 'deptno': '20'}\n",
      "----------------------------------------------\n",
      "16\n",
      "8\n",
      "----------------------------------------------\n",
      "7369 SMITH CLERK 7902 1980-12-17 800 None 20\n",
      "7499 ALLEN SALESMAN 7698 1981-02-20 1600 300 30\n",
      "7521 WARD SALESMAN 7698 1981-02-03 1250 500 30\n",
      "7566 JONES MANAGER 7839 1981-03-02 2975 None 20\n",
      "7654 MARTIN SALESMAN 7698 1981-10-22 1250 1400 30\n",
      "7698 BLAKE MANAGER 7839 1981-05-01 2850 None 30\n",
      "7782 CLARK MANAGER 7839 1981-09-06 2450 None 10\n",
      "7788 SCOTT ANALYST 7566 1982-12-08 3000 None 20\n",
      "7839 KING PRESIDENT None 1981-11-17 5000 None 10\n",
      "7844 TURNER SALESMAN 7698 1984-10-08 1500 None 30\n",
      "7876 ADAMS CLERK 7788 1983-01-12 1100 None 20\n",
      "7900 JAMES CLERK 7698 1981-12-03 950 None 30\n",
      "7902 FORD ANALYST 7566 1981-12-13 3000 None 20\n",
      "7788 SCOTT ANALYST 7566 1987-04-19 3000 None 20\n",
      "7876 DOOLY CLERK None 1987-05-23 1100 None None\n",
      "7934 DUKE CLERK 7782 1982-01-25 1300 None 10\n"
     ]
    }
   ],
   "source": [
    "import pymysql\n",
    "conn = pymysql.connect(host='multi-bigdata.cljkqcsbb9ok.ap-northeast-2.rds.amazonaws.com',port=3306,user='edu12',passwd='edu12', db='unicodb', cursorclass=pymysql.cursors.DictCursor)\n",
    "try:\n",
    "    cur = conn.cursor()\n",
    "    print(type(cur))\n",
    "    print(\"-----------------------\")\n",
    "    sql = 'SELECT * FROM emp'\n",
    "    cur.execute(sql)\n",
    "    result = cur.fetchall()\n",
    "    print(type(result))\n",
    "    print(result)\n",
    "    print(\"----------------------------------------------\")\n",
    "    print(type(result[0]))\n",
    "    print(result[0])\n",
    "    print(\"----------------------------------------------\")\n",
    "    print(len(result))\n",
    "    print(len(result[0]))\n",
    "    print(\"----------------------------------------------\")\n",
    "    for row in result:        \n",
    "        print(f'{row[\"empno\"]} {row[\"ename\"]} {row[\"job\"]} {row[\"mgr\"]} {row[\"hiredate\"]} {row[\"sal\"]} {row[\"comm\"]} {row[\"deptno\"]}')\n",
    "finally:\n",
    "    conn.close()"
   ]
  },
  {
   "cell_type": "code",
   "execution_count": 4,
   "metadata": {},
   "outputs": [],
   "source": [
    "import pandas as pd"
   ]
  },
  {
   "cell_type": "code",
   "execution_count": 5,
   "metadata": {},
   "outputs": [
    {
     "data": {
      "text/html": [
       "<div>\n",
       "<style scoped>\n",
       "    .dataframe tbody tr th:only-of-type {\n",
       "        vertical-align: middle;\n",
       "    }\n",
       "\n",
       "    .dataframe tbody tr th {\n",
       "        vertical-align: top;\n",
       "    }\n",
       "\n",
       "    .dataframe thead th {\n",
       "        text-align: right;\n",
       "    }\n",
       "</style>\n",
       "<table border=\"1\" class=\"dataframe\">\n",
       "  <thead>\n",
       "    <tr style=\"text-align: right;\">\n",
       "      <th></th>\n",
       "      <th>empno</th>\n",
       "      <th>ename</th>\n",
       "      <th>job</th>\n",
       "      <th>mgr</th>\n",
       "      <th>hiredate</th>\n",
       "      <th>sal</th>\n",
       "      <th>comm</th>\n",
       "      <th>deptno</th>\n",
       "    </tr>\n",
       "  </thead>\n",
       "  <tbody>\n",
       "    <tr>\n",
       "      <th>0</th>\n",
       "      <td>7369</td>\n",
       "      <td>SMITH</td>\n",
       "      <td>CLERK</td>\n",
       "      <td>7902</td>\n",
       "      <td>1980-12-17</td>\n",
       "      <td>800</td>\n",
       "      <td>NaN</td>\n",
       "      <td>20</td>\n",
       "    </tr>\n",
       "    <tr>\n",
       "      <th>1</th>\n",
       "      <td>7499</td>\n",
       "      <td>ALLEN</td>\n",
       "      <td>SALESMAN</td>\n",
       "      <td>7698</td>\n",
       "      <td>1981-02-20</td>\n",
       "      <td>1600</td>\n",
       "      <td>300.0</td>\n",
       "      <td>30</td>\n",
       "    </tr>\n",
       "    <tr>\n",
       "      <th>2</th>\n",
       "      <td>7521</td>\n",
       "      <td>WARD</td>\n",
       "      <td>SALESMAN</td>\n",
       "      <td>7698</td>\n",
       "      <td>1981-02-03</td>\n",
       "      <td>1250</td>\n",
       "      <td>500.0</td>\n",
       "      <td>30</td>\n",
       "    </tr>\n",
       "    <tr>\n",
       "      <th>3</th>\n",
       "      <td>7566</td>\n",
       "      <td>JONES</td>\n",
       "      <td>MANAGER</td>\n",
       "      <td>7839</td>\n",
       "      <td>1981-03-02</td>\n",
       "      <td>2975</td>\n",
       "      <td>NaN</td>\n",
       "      <td>20</td>\n",
       "    </tr>\n",
       "    <tr>\n",
       "      <th>4</th>\n",
       "      <td>7654</td>\n",
       "      <td>MARTIN</td>\n",
       "      <td>SALESMAN</td>\n",
       "      <td>7698</td>\n",
       "      <td>1981-10-22</td>\n",
       "      <td>1250</td>\n",
       "      <td>1400.0</td>\n",
       "      <td>30</td>\n",
       "    </tr>\n",
       "    <tr>\n",
       "      <th>5</th>\n",
       "      <td>7698</td>\n",
       "      <td>BLAKE</td>\n",
       "      <td>MANAGER</td>\n",
       "      <td>7839</td>\n",
       "      <td>1981-05-01</td>\n",
       "      <td>2850</td>\n",
       "      <td>NaN</td>\n",
       "      <td>30</td>\n",
       "    </tr>\n",
       "    <tr>\n",
       "      <th>6</th>\n",
       "      <td>7782</td>\n",
       "      <td>CLARK</td>\n",
       "      <td>MANAGER</td>\n",
       "      <td>7839</td>\n",
       "      <td>1981-09-06</td>\n",
       "      <td>2450</td>\n",
       "      <td>NaN</td>\n",
       "      <td>10</td>\n",
       "    </tr>\n",
       "    <tr>\n",
       "      <th>7</th>\n",
       "      <td>7788</td>\n",
       "      <td>SCOTT</td>\n",
       "      <td>ANALYST</td>\n",
       "      <td>7566</td>\n",
       "      <td>1982-12-08</td>\n",
       "      <td>3000</td>\n",
       "      <td>NaN</td>\n",
       "      <td>20</td>\n",
       "    </tr>\n",
       "    <tr>\n",
       "      <th>8</th>\n",
       "      <td>7839</td>\n",
       "      <td>KING</td>\n",
       "      <td>PRESIDENT</td>\n",
       "      <td>None</td>\n",
       "      <td>1981-11-17</td>\n",
       "      <td>5000</td>\n",
       "      <td>NaN</td>\n",
       "      <td>10</td>\n",
       "    </tr>\n",
       "    <tr>\n",
       "      <th>9</th>\n",
       "      <td>7844</td>\n",
       "      <td>TURNER</td>\n",
       "      <td>SALESMAN</td>\n",
       "      <td>7698</td>\n",
       "      <td>1984-10-08</td>\n",
       "      <td>1500</td>\n",
       "      <td>NaN</td>\n",
       "      <td>30</td>\n",
       "    </tr>\n",
       "    <tr>\n",
       "      <th>10</th>\n",
       "      <td>7876</td>\n",
       "      <td>ADAMS</td>\n",
       "      <td>CLERK</td>\n",
       "      <td>7788</td>\n",
       "      <td>1983-01-12</td>\n",
       "      <td>1100</td>\n",
       "      <td>NaN</td>\n",
       "      <td>20</td>\n",
       "    </tr>\n",
       "    <tr>\n",
       "      <th>11</th>\n",
       "      <td>7900</td>\n",
       "      <td>JAMES</td>\n",
       "      <td>CLERK</td>\n",
       "      <td>7698</td>\n",
       "      <td>1981-12-03</td>\n",
       "      <td>950</td>\n",
       "      <td>NaN</td>\n",
       "      <td>30</td>\n",
       "    </tr>\n",
       "    <tr>\n",
       "      <th>12</th>\n",
       "      <td>7902</td>\n",
       "      <td>FORD</td>\n",
       "      <td>ANALYST</td>\n",
       "      <td>7566</td>\n",
       "      <td>1981-12-13</td>\n",
       "      <td>3000</td>\n",
       "      <td>NaN</td>\n",
       "      <td>20</td>\n",
       "    </tr>\n",
       "    <tr>\n",
       "      <th>13</th>\n",
       "      <td>7788</td>\n",
       "      <td>SCOTT</td>\n",
       "      <td>ANALYST</td>\n",
       "      <td>7566</td>\n",
       "      <td>1987-04-19</td>\n",
       "      <td>3000</td>\n",
       "      <td>NaN</td>\n",
       "      <td>20</td>\n",
       "    </tr>\n",
       "    <tr>\n",
       "      <th>14</th>\n",
       "      <td>7876</td>\n",
       "      <td>DOOLY</td>\n",
       "      <td>CLERK</td>\n",
       "      <td>None</td>\n",
       "      <td>1987-05-23</td>\n",
       "      <td>1100</td>\n",
       "      <td>NaN</td>\n",
       "      <td>None</td>\n",
       "    </tr>\n",
       "    <tr>\n",
       "      <th>15</th>\n",
       "      <td>7934</td>\n",
       "      <td>DUKE</td>\n",
       "      <td>CLERK</td>\n",
       "      <td>7782</td>\n",
       "      <td>1982-01-25</td>\n",
       "      <td>1300</td>\n",
       "      <td>NaN</td>\n",
       "      <td>10</td>\n",
       "    </tr>\n",
       "  </tbody>\n",
       "</table>\n",
       "</div>"
      ],
      "text/plain": [
       "   empno   ename        job   mgr    hiredate   sal    comm deptno\n",
       "0   7369   SMITH      CLERK  7902  1980-12-17   800     NaN     20\n",
       "1   7499   ALLEN   SALESMAN  7698  1981-02-20  1600   300.0     30\n",
       "2   7521    WARD   SALESMAN  7698  1981-02-03  1250   500.0     30\n",
       "3   7566   JONES    MANAGER  7839  1981-03-02  2975     NaN     20\n",
       "4   7654  MARTIN   SALESMAN  7698  1981-10-22  1250  1400.0     30\n",
       "5   7698   BLAKE    MANAGER  7839  1981-05-01  2850     NaN     30\n",
       "6   7782   CLARK    MANAGER  7839  1981-09-06  2450     NaN     10\n",
       "7   7788   SCOTT    ANALYST  7566  1982-12-08  3000     NaN     20\n",
       "8   7839    KING  PRESIDENT  None  1981-11-17  5000     NaN     10\n",
       "9   7844  TURNER   SALESMAN  7698  1984-10-08  1500     NaN     30\n",
       "10  7876   ADAMS      CLERK  7788  1983-01-12  1100     NaN     20\n",
       "11  7900   JAMES      CLERK  7698  1981-12-03   950     NaN     30\n",
       "12  7902    FORD    ANALYST  7566  1981-12-13  3000     NaN     20\n",
       "13  7788   SCOTT    ANALYST  7566  1987-04-19  3000     NaN     20\n",
       "14  7876   DOOLY      CLERK  None  1987-05-23  1100     NaN   None\n",
       "15  7934    DUKE      CLERK  7782  1982-01-25  1300     NaN     10"
      ]
     },
     "execution_count": 5,
     "metadata": {},
     "output_type": "execute_result"
    }
   ],
   "source": [
    "df = pd.DataFrame(result)\n",
    "df"
   ]
  },
  {
   "cell_type": "code",
   "execution_count": 7,
   "metadata": {},
   "outputs": [
    {
     "name": "stdout",
     "output_type": "stream",
     "text": [
      "{'Tables_in_edudb04': 'Employee'}\n",
      "{'id': 1, 'LastName': 'KIM', 'FirstName': 'JUNGHYUN', 'DepartmentCode': 10}\n",
      "{'id': 1, 'LastName': 'GO', 'FirstName': 'GILDONG', 'DepartmentCode': 10}\n",
      "{'id': 1, 'LastName': 'KIM', 'FirstName': 'JUNGHYUN', 'DepartmentCode': 10}\n",
      "{'id': 1, 'LastName': 'GO', 'FirstName': 'GILDONG', 'DepartmentCode': 10}\n",
      "{'id': 1, 'LastName': 'KIM', 'FirstName': 'JUNGHYUN', 'DepartmentCode': 10}\n",
      "{'id': 1, 'LastName': 'GO', 'FirstName': 'GILDONG', 'DepartmentCode': 10}\n"
     ]
    }
   ],
   "source": [
    "import pymysql\n",
    "\n",
    "dbServerName    \t= \"multi-bigdata.cljkqcsbb9ok.ap-northeast-2.rds.amazonaws.com\"\n",
    "dbUser          \t= \"edu12\"\n",
    "dbPassword      \t= \"edu12\"\n",
    "dbName          \t= \"edudb04\"\n",
    "charSet         \t= \"utf8\"\n",
    "cusrorType      \t= pymysql.cursors.DictCursor\n",
    "\n",
    "connectionObject   = pymysql.connect(host=dbServerName, user=dbUser, password=dbPassword,\n",
    "                                     db=dbName, charset=charSet,cursorclass=cusrorType)\n",
    "\n",
    "try:\n",
    "    cursorObject = connectionObject.cursor()                                     \n",
    "    sqlQuery = \"CREATE TABLE IF NOT EXISTS Employee(id int, LastName varchar(32), FirstName varchar(32), DepartmentCode int)\"   \n",
    "    cursorObject.execute(sqlQuery)\n",
    "    sqlQuery = \"show tables\"   \n",
    "    cursorObject.execute(sqlQuery)\n",
    "    rows = cursorObject.fetchall()\n",
    "    for row in rows:\n",
    "        print(row)\n",
    "\n",
    "    insertStatement = \"INSERT INTO Employee (id, LastName, FirstName, DepartmentCode) VALUES (1,'KIM','JUNGHYUN',10)\"   \n",
    "    cursorObject.execute(insertStatement)\n",
    "    insertStatement = \"INSERT INTO Employee (id, LastName, FirstName, DepartmentCode) VALUES (1,'GO','GILDONG',10)\"   \n",
    "    cursorObject.execute(insertStatement)\n",
    "    connectionObject.commit()\n",
    "\n",
    "    sqlQuery = \"select * from Employee\"   \n",
    "    cursorObject.execute(sqlQuery)\n",
    "    rows = cursorObject.fetchall()\n",
    "\n",
    "    for row in rows:\n",
    "        print(row)\n",
    "\n",
    "except Exception as e:\n",
    "    print(\"Exeception occured:{}\".format(e))\n",
    "finally:    \n",
    "    connectionObject.close()"
   ]
  },
  {
   "cell_type": "code",
   "execution_count": 8,
   "metadata": {},
   "outputs": [
    {
     "name": "stdout",
     "output_type": "stream",
     "text": [
      "(('7369', 'SMITH', 'CLERK', '7902', datetime.date(1980, 12, 17), 800, None, '20'), ('7499', 'ALLEN', 'SALESMAN', '7698', datetime.date(1981, 2, 20), 1600, 300, '30'), ('7521', 'WARD', 'SALESMAN', '7698', datetime.date(1981, 2, 3), 1250, 500, '30'), ('7566', 'JONES', 'MANAGER', '7839', datetime.date(1981, 3, 2), 2975, None, '20'), ('7654', 'MARTIN', 'SALESMAN', '7698', datetime.date(1981, 10, 22), 1250, 1400, '30'), ('7698', 'BLAKE', 'MANAGER', '7839', datetime.date(1981, 5, 1), 2850, None, '30'), ('7782', 'CLARK', 'MANAGER', '7839', datetime.date(1981, 9, 6), 2450, None, '10'), ('7788', 'SCOTT', 'ANALYST', '7566', datetime.date(1982, 12, 8), 3000, None, '20'), ('7839', 'KING', 'PRESIDENT', None, datetime.date(1981, 11, 17), 5000, None, '10'), ('7844', 'TURNER', 'SALESMAN', '7698', datetime.date(1984, 10, 8), 1500, None, '30'), ('7876', 'ADAMS', 'CLERK', '7788', datetime.date(1983, 1, 12), 1100, None, '20'), ('7900', 'JAMES', 'CLERK', '7698', datetime.date(1981, 12, 3), 950, None, '30'), ('7902', 'FORD', 'ANALYST', '7566', datetime.date(1981, 12, 13), 3000, None, '20'), ('7788', 'SCOTT', 'ANALYST', '7566', datetime.date(1987, 4, 19), 3000, None, '20'), ('7876', 'DOOLY', 'CLERK', None, datetime.date(1987, 5, 23), 1100, None, None), ('7934', 'DUKE', 'CLERK', '7782', datetime.date(1982, 1, 25), 1300, None, '10'))\n",
      "----------------------------------------------\n",
      "(('10', 'ACCOUNTING', 'NEW YORK'), ('20', 'REARCH', 'DALLAS'), ('30', 'SALES', 'CHICAGO'), ('40', 'OPERATIONS', 'BOSTON'))\n",
      "----------------------------------------------\n",
      "((1, 'KIM', 'JUNGHYUN', 10), (1, 'GO', 'GILDONG', 10), (1, 'KIM', 'JUNGHYUN', 10), (1, 'GO', 'GILDONG', 10), (1, 'KIM', 'JUNGHYUN', 10), (1, 'GO', 'GILDONG', 10), (1, 'KIM', 'JUNGHYUN', 10), (1, 'GO', 'GILDONG', 10), (1, 'KIM', 'JUNGHYUN', 10), (1, 'GO', 'GILDONG', 10), (1, 'KIM', 'JUNGHYUN', 10), (1, 'GO', 'GILDONG', 10), (1, 'KIM', 'JUNGHYUN', 10), (1, 'GO', 'GILDONG', 10), (1, 'KIM', 'JUNGHYUN', 10), (1, 'GO', 'GILDONG', 10), (1, 'KIM', 'JUNGHYUN', 10), (1, 'GO', 'GILDONG', 10))\n"
     ]
    }
   ],
   "source": [
    "import pymysql\n",
    "conn = pymysql.connect(host='multi-bigdata.cljkqcsbb9ok.ap-northeast-2.rds.amazonaws.com',port=3306,user='edu12',passwd='edu12', db='unicodb')\n",
    "try:\n",
    "    cur = conn.cursor()\n",
    "    sql = 'SELECT * FROM emp'\n",
    "    cur.execute(sql)\n",
    "    result = cur.fetchall()\n",
    "    print(result)\n",
    "    print(\"----------------------------------------------\")\n",
    "    sql = 'SELECT * FROM dept'\n",
    "    cur.execute(sql)\n",
    "    result = cur.fetchall()\n",
    "    print(result)\n",
    "    print(\"----------------------------------------------\")\n",
    "    sql = 'SELECT * FROM edudb.Employee'\n",
    "    cur.execute(sql)\n",
    "    result = cur.fetchall()\n",
    "    print(result)   \n",
    "finally:\n",
    "    conn.close()"
   ]
  },
  {
   "cell_type": "code",
   "execution_count": 9,
   "metadata": {},
   "outputs": [
    {
     "name": "stdout",
     "output_type": "stream",
     "text": [
      "(2, 1.0, 1, 'Cumings, Mrs. John Bradley (Florence Briggs Thayer)', 'female', 38.0, 1, 0, 'PC 17599', 71.2833, 'C85', 'C', 90, 'Cumings, Mrs. Florence Briggs (née Thayer)', 35, 'New York, New York, US', 'Cherbourg', 'New York, New York, US', '4', '', 1)\n"
     ]
    }
   ],
   "source": [
    "# 교재 224 페이지 예제 시작\n",
    "import pymysql\n",
    "conn = pymysql.connect(host='multi-bigdata.cljkqcsbb9ok.ap-northeast-2.rds.amazonaws.com',port=3306,user='edu12',passwd='edu12', db='edudb')\n",
    "\n",
    "cur = conn.cursor()\n",
    "sql = 'SELECT * FROM dataset4'\n",
    "cur.execute(sql)\n",
    "result = cur.fetchone()\n",
    "print(result)"
   ]
  },
  {
   "cell_type": "code",
   "execution_count": null,
   "metadata": {},
   "outputs": [],
   "source": [
    "#sql = 'SELECT * FROM dataset4'\n",
    "#cur.execute(sql)\n",
    "alldata = cur.fetchall()\n",
    "print(alldata)"
   ]
  },
  {
   "cell_type": "code",
   "execution_count": null,
   "metadata": {},
   "outputs": [],
   "source": [
    "data = pd.read_sql_query(sql,conn)"
   ]
  },
  {
   "cell_type": "code",
   "execution_count": null,
   "metadata": {},
   "outputs": [],
   "source": [
    "data"
   ]
  },
  {
   "cell_type": "code",
   "execution_count": null,
   "metadata": {},
   "outputs": [],
   "source": [
    "data['Sex'] = [1 if x == 'female' else 0 for x in data['Sex']]"
   ]
  },
  {
   "cell_type": "code",
   "execution_count": null,
   "metadata": {},
   "outputs": [],
   "source": [
    "data"
   ]
  },
  {
   "cell_type": "code",
   "execution_count": null,
   "metadata": {},
   "outputs": [],
   "source": [
    "M = data.loc[:, ['Survived','Age','SibSp','Parch','Fare','Sex']]"
   ]
  },
  {
   "cell_type": "code",
   "execution_count": null,
   "metadata": {},
   "outputs": [],
   "source": [
    "M"
   ]
  },
  {
   "cell_type": "code",
   "execution_count": null,
   "metadata": {},
   "outputs": [],
   "source": [
    "M.corr()"
   ]
  },
  {
   "cell_type": "code",
   "execution_count": null,
   "metadata": {},
   "outputs": [],
   "source": [
    "import matplotlib.pyplot as plt \n",
    "import seaborn as sns  "
   ]
  },
  {
   "cell_type": "code",
   "execution_count": null,
   "metadata": {},
   "outputs": [],
   "source": [
    "plt.figure(figsize=(15,15))\n",
    "sns.heatmap(data = M.corr(), annot=True, \n",
    "fmt = '.2f', linewidths=.5, cmap='Blues')\n",
    "plt.show()"
   ]
  },
  {
   "cell_type": "code",
   "execution_count": null,
   "metadata": {},
   "outputs": [],
   "source": [
    "from matplotlib import font_manager, rc\n",
    "font_path = \"data/THEdog.ttf\"   #폰트파일의 위치\n",
    "font_name = font_manager.FontProperties(fname=font_path).get_name()\n",
    "rc('font', family=font_name)"
   ]
  },
  {
   "cell_type": "code",
   "execution_count": null,
   "metadata": {},
   "outputs": [],
   "source": [
    "plt.figure(figsize=(15,15))\n",
    "data1=data[data['Survived'] == 1]\n",
    "ax=sns.countplot(x='Sex',data=data1)\n",
    "ax.set_title(\"타이타닉호의 성별 생존자 수\", fontsize= 30)\n",
    "ax.set_xticklabels(['남성','여성'], fontsize=15)\n",
    "ax.set_xlabel('성별', fontsize= 20) \n",
    "ax.set_ylabel('생존자 수', fontsize= 20)  \n",
    "plt.show()"
   ]
  },
  {
   "cell_type": "code",
   "execution_count": null,
   "metadata": {},
   "outputs": [],
   "source": [
    "fig, ax = plt.subplots(1,2, figsize = (12, 8))\n",
    "\n",
    "sns.kdeplot(data[data['Survived'] == 0]['Age'], ax = ax[0])\n",
    "sns.kdeplot(data[data['Survived'] == 1]['Age'], ax = ax[1])\n",
    "plt.show()"
   ]
  },
  {
   "cell_type": "code",
   "execution_count": null,
   "metadata": {},
   "outputs": [],
   "source": [
    "fig, ax = plt.subplots(2,2, figsize = (12, 8))\n",
    "\n",
    "sns.kdeplot(data[(data['Survived'] == 1) & (data['Sex'] == 0)]['Age'], ax = ax[0,0])\n",
    "sns.kdeplot(data[(data['Survived'] == 0) & (data['Sex'] == 0)]['Age'], ax = ax[0,1])\n",
    "sns.kdeplot(data[(data['Survived'] == 1) & (data['Sex'] == 1)]['Age'], ax = ax[1,0])\n",
    "sns.kdeplot(data[(data['Survived'] == 0) & (data['Sex'] == 1)]['Age'], ax = ax[1,1])\n",
    "ax[0,0].set_title(\"여성의 나이별 생존자\")\n",
    "ax[0,1].set_title(\"여성의 나이별 사망자\")\n",
    "ax[1,0].set_title(\"남성의 나이별 생존자\")\n",
    "ax[1,1].set_title(\"남성의 나이별 사망자\")\n",
    "plt.show()"
   ]
  },
  {
   "cell_type": "code",
   "execution_count": null,
   "metadata": {},
   "outputs": [],
   "source": [
    "sql = 'SELECT Sex, count(*) cnt FROM dataset4 where Survived = 1.0 group by Sex'\n",
    "data = pd.read_sql_query(sql,conn)\n",
    "data"
   ]
  },
  {
   "cell_type": "code",
   "execution_count": null,
   "metadata": {},
   "outputs": [],
   "source": [
    "plt.figure(figsize=(15,15))\n",
    "ax=sns.barplot(data=data, x=\"Sex\", y= \"cnt\")\n",
    "ax.set_title(\"타이타닉호의 성별 생존자 수\", fontsize= 30)\n",
    "ax.set_xticklabels(['여성','남성'], fontsize=15)\n",
    "ax.set_xlabel('성별', fontsize= 20) \n",
    "ax.set_ylabel('생존자 수', fontsize= 20)  \n",
    "plt.show()"
   ]
  },
  {
   "cell_type": "code",
   "execution_count": null,
   "metadata": {},
   "outputs": [],
   "source": [
    "conn = pymysql.connect(host='multi-bigdata.cljkqcsbb9ok.ap-northeast-2.rds.amazonaws.com',port=3306,user='edu12',passwd='edu12', db='edudb')\n",
    "\n",
    "cur = conn.cursor()\n",
    "sql = 'SELECT * FROM dataset4'\n",
    "cur.execute(sql)\n",
    "result = cur.fetchone()\n",
    "print(result)"
   ]
  }
 ],
 "metadata": {
  "kernelspec": {
   "display_name": "pydatavenv",
   "language": "python",
   "name": "pydatavenv"
  },
  "language_info": {
   "codemirror_mode": {
    "name": "ipython",
    "version": 3
   },
   "file_extension": ".py",
   "mimetype": "text/x-python",
   "name": "python",
   "nbconvert_exporter": "python",
   "pygments_lexer": "ipython3",
   "version": "3.7.9"
  }
 },
 "nbformat": 4,
 "nbformat_minor": 4
}
