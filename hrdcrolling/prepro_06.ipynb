{
 "cells": [
  {
   "cell_type": "code",
   "execution_count": null,
   "metadata": {},
   "outputs": [],
   "source": [
    "import pandas as pd\n",
    "from konlpy.tag import Okt\n",
    "from konlpy.utils import pprint\n",
    "import nltk\n",
    "from konlpy.tag import Hannanum \n",
    "import re"
   ]
  },
  {
   "cell_type": "code",
   "execution_count": null,
   "metadata": {},
   "outputs": [],
   "source": [
    "df = pd.read_csv(\"06_보건 의료.csv\")\n",
    "df.dropna(subset=['취업률'], inplace=True)\n",
    "df.reset_index(drop=True, inplace=True)\n",
    "df['NCS분야'] = \"06_보건 의료\"\n",
    "\n",
    "df_c = df['과정명'].copy()\n",
    "df_a = df_c.tolist()\n",
    "df_a = '\\n'.join(df_a)\n",
    "\n",
    "hannanum = Hannanum()\n",
    "\n",
    "t = Okt()\n",
    "tokens_ko = hannanum.nouns(df_a)\n",
    "\n",
    "\n",
    "ko_ = nltk.Text(tokens_ko)  \n",
    "ko_.vocab()\n",
    "freq_dic = dict(ko_.vocab())\n",
    "sorted(freq_dic.items(), key=lambda x: x[1], reverse=True)\n",
    "sortedDict = sorted(freq_dic.items(), key=lambda x: x[1], reverse=True)\n",
    "\n",
    "sortlist = []\n",
    "for i in range(len(sortedDict)) :\n",
    "    sortlist.append(sortedDict[i][0])\n",
    "print(sortlist)"
   ]
  },
  {
   "cell_type": "code",
   "execution_count": null,
   "metadata": {},
   "outputs": [],
   "source": [
    "comparelist = ['요양보호사', '간호조무사', '사회복지사', '병원코디네이터', '의료서비스', '국제의료관광코디네이터', '건강보험']\n",
    "nonelist = []\n",
    "courselist = []\n",
    "for i in range(len(df)) :\n",
    "    for n in range(len(comparelist)) :\n",
    "        if comparelist[n] in df_c[i] :\n",
    "            course = comparelist[n]\n",
    "            break;\n",
    "        else :\n",
    "            course = None\n",
    "            \n",
    "    courselist.append(course)\n",
    "\n",
    "df['과정'] = courselist\n",
    "display(df)\n",
    "\n",
    "print(df.isnull().sum())\n",
    "df_p = df['과정'].tolist()\n",
    "for i in range(len(df_p)) :\n",
    "    if not(df_p[i]) :\n",
    "        print(i, df.iloc[i]['과정명'])\n",
    "        \n",
    "df.to_csv(\"preprocessing/06.csv\")"
   ]
  }
 ],
 "metadata": {
  "kernelspec": {
   "display_name": "pydatavenv",
   "language": "python",
   "name": "pydatavenv"
  },
  "language_info": {
   "codemirror_mode": {
    "name": "ipython",
    "version": 3
   },
   "file_extension": ".py",
   "mimetype": "text/x-python",
   "name": "python",
   "nbconvert_exporter": "python",
   "pygments_lexer": "ipython3",
   "version": "3.7.9"
  }
 },
 "nbformat": 4,
 "nbformat_minor": 4
}
