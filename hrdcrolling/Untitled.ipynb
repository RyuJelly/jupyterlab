{
 "cells": [
  {
   "cell_type": "code",
   "execution_count": 7,
   "metadata": {},
   "outputs": [
    {
     "name": "stdout",
     "output_type": "stream",
     "text": [
      "{'펀드': 2, '투자': 17, '권유': 17, '대행': 17, '외환': 22, '전문': 22, '역': 22, '종': 22, '증권': 15, '보험': 14, '사무': 13, '총무': 13, '양성': 12, '과정': 9, '실무': 9, '손해': 23, '평': 23, '가사': 23, '이론': 16, '취업': 2, '위': 2, '기반': 2, '생애': 2, '재무': 2, '설계': 2, '금융': 1, '합격': 12, '은행': 12, '자산': 12, '관리사': 12, '비즈니스': 12, '반': 12}\n"
     ]
    }
   ],
   "source": [
    "import pandas as pd\n",
    "from konlpy.tag import Okt\n",
    "from konlpy.utils import pprint\n",
    "import nltk\n",
    "\n",
    "df = pd.read_csv(\"../hrdcrolling/[전체]금융보험(03).csv\")\n",
    "\n",
    "df_a = df['과정명']\n",
    "df_a = df_a.tolist()\n",
    "df_a = '\\n'.join(df_a)\n",
    "\n",
    "t = Okt()\n",
    "tokens_ko = t.nouns(df_a)\n",
    "\n",
    "\n",
    "ko_ = nltk.Text(tokens_ko)  \n",
    "\n",
    "freq_dic = dict(ko_.vocab())\n",
    "print(freq_dic)"
   ]
  }
 ],
 "metadata": {
  "kernelspec": {
   "display_name": "pydatavenv",
   "language": "python",
   "name": "pydatavenv"
  },
  "language_info": {
   "codemirror_mode": {
    "name": "ipython",
    "version": 3
   },
   "file_extension": ".py",
   "mimetype": "text/x-python",
   "name": "python",
   "nbconvert_exporter": "python",
   "pygments_lexer": "ipython3",
   "version": "3.7.9"
  }
 },
 "nbformat": 4,
 "nbformat_minor": 4
}
