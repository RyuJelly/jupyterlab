{
 "cells": [
  {
   "cell_type": "code",
   "execution_count": 2,
   "metadata": {},
   "outputs": [
    {
     "name": "stdout",
     "output_type": "stream",
     "text": [
      "[('손해평가사', 23), ('외환전문역', 22), ('증권투자권유대행인', 15), ('은행FP(자산관리사)', 12), ('보험사무원', 7), ('보험총무사무원', 6), ('펀드투자권유대행인', 2), ('생애재무설계', 2)]\n",
      "['손해평가사', '외환전문역', '증권투자권유대행인', '은행FP(자산관리사)', '보험사무원', '보험총무사무원', '펀드투자권유대행인', '생애재무설계']\n"
     ]
    }
   ],
   "source": [
    "import pandas as pd\n",
    "from konlpy.tag import Okt\n",
    "from konlpy.utils import pprint\n",
    "import nltk\n",
    "from konlpy.tag import Hannanum \n",
    "import re\n",
    "df = pd.read_csv(\"03_금융보험.csv\")\n",
    "\n",
    "df_a = df['과정명']\n",
    "df_a = df_a.tolist()\n",
    "df_a = '\\n'.join(df_a)\n",
    "df_a = re.sub('양성', '', df_a)\n",
    "df_a = re.sub('실무자', '', df_a)\n",
    "\n",
    "# t = Okt()\n",
    "# tokens_ko = t.nouns(df_a)\n",
    "\n",
    "# ko_ = nltk.Text(tokens_ko)  \n",
    "# ko_.vocab()\n",
    "# freq_dic = dict(ko_.vocab())\n",
    "# print(freq_dic)\n",
    "\n",
    "hannanum = Hannanum()\n",
    "    \n",
    "t = Okt()\n",
    "tokens_ko = hannanum.nouns(df_a)\n",
    "\n",
    "\n",
    "ko_ = nltk.Text(tokens_ko)  \n",
    "ko_.vocab()\n",
    "freq_dic = dict(ko_.vocab())\n",
    "[freq_dic.pop(key) for key in ['금융권', '보험권', '합격', '과정', '기반', '취업', '실무', '1종', '2종', '총무', '이론', '비즈니스반']]\n",
    "sorted(freq_dic.items(), key=lambda x: x[1], reverse=True)\n",
    "sortedDict = sorted(freq_dic.items(), key=lambda x: x[1], reverse=True)\n",
    "\n",
    "print(sortedDict)\n",
    "\n",
    "sortlist = []\n",
    "for i in range(len(sortedDict)) :\n",
    "    sortlist.append(sortedDict[i][0])\n",
    "print(sortlist)\n",
    "\n"
   ]
  }
 ],
 "metadata": {
  "kernelspec": {
   "display_name": "pydatavenv",
   "language": "python",
   "name": "pydatavenv"
  },
  "language_info": {
   "codemirror_mode": {
    "name": "ipython",
    "version": 3
   },
   "file_extension": ".py",
   "mimetype": "text/x-python",
   "name": "python",
   "nbconvert_exporter": "python",
   "pygments_lexer": "ipython3",
   "version": "3.7.9"
  }
 },
 "nbformat": 4,
 "nbformat_minor": 4
}
