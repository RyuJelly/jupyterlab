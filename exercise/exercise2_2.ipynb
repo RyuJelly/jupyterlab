{
 "cells": [
  {
   "cell_type": "code",
   "execution_count": 19,
   "metadata": {},
   "outputs": [],
   "source": [
    "import requests\n",
    "from bs4 import BeautifulSoup\n",
    "\n",
    "req = requests.get(\"http://media.daum.net/ranking/popular/\")\n",
    "html = req.text\n",
    "bs = BeautifulSoup(html, 'html.parser')\n",
    "titles = bs.select('ul.list_news2 > li > div.cont_thumb > strong > a')\n",
    "comname = bs.select('div.cont_thumb > strong > span')\n",
    "\n",
    "newstitles = []\n",
    "newscomname = []\n",
    "\n",
    "for dom in titles:\n",
    "    newstitles.append(dom.text)\n",
    "for dom in comname:\n",
    "    newscomname.append(dom.text)\n",
    "    \n",
    "\n",
    "with open('C:/PyStexam/exercise/news.csv', \"wt\", encoding=\"utf-8\") as f:\n",
    "    f.write('newstitles,newscomname\\n')  \n",
    "    for i in range(len(newstitles)):\n",
    "        f.write(newstitles[i]+\",\"+newscomname[i]+'\\n')"
   ]
  }
 ],
 "metadata": {
  "kernelspec": {
   "display_name": "pydatavenv",
   "language": "python",
   "name": "pydatavenv"
  },
  "language_info": {
   "codemirror_mode": {
    "name": "ipython",
    "version": 3
   },
   "file_extension": ".py",
   "mimetype": "text/x-python",
   "name": "python",
   "nbconvert_exporter": "python",
   "pygments_lexer": "ipython3",
   "version": "3.7.9"
  }
 },
 "nbformat": 4,
 "nbformat_minor": 4
}
