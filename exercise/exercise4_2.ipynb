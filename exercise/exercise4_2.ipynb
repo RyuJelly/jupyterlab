{
 "cells": [
  {
   "cell_type": "code",
   "execution_count": 2,
   "metadata": {},
   "outputs": [],
   "source": [
    "import pandas as pd"
   ]
  },
  {
   "cell_type": "code",
   "execution_count": 5,
   "metadata": {},
   "outputs": [
    {
     "name": "stdout",
     "output_type": "stream",
     "text": [
      "<class 'pandas.core.series.Series'>\n",
      "0    10\n",
      "1    20\n",
      "2    30\n",
      "3    40\n",
      "4    50\n",
      "dtype: int64\n"
     ]
    }
   ],
   "source": [
    "data = [10, 20, 30, 40, 50]\n",
    "sr = pd.Series(data)\n",
    "print(type(sr))\n",
    "print(sr)"
   ]
  },
  {
   "cell_type": "code",
   "execution_count": 9,
   "metadata": {},
   "outputs": [
    {
     "name": "stdout",
     "output_type": "stream",
     "text": [
      "<class 'pandas.core.series.Series'>\n",
      "a    1\n",
      "b    2\n",
      "c    3\n",
      "d    4\n",
      "e    5\n",
      "dtype: int64\n"
     ]
    }
   ],
   "source": [
    "data = {'a':1, 'b':2, 'c':3, 'd':4, 'e':5}\n",
    "sr= pd.Series(data)\n",
    "print(type(sr))\n",
    "print(sr)"
   ]
  },
  {
   "cell_type": "code",
   "execution_count": 10,
   "metadata": {},
   "outputs": [
    {
     "name": "stdout",
     "output_type": "stream",
     "text": [
      "<class 'pandas.core.series.Series'>\n",
      "학생1     둘리\n",
      "학생2     또치\n",
      "학생3    도우너\n",
      "학생4    희동이\n",
      "학생5    마이콜\n",
      "dtype: object\n"
     ]
    }
   ],
   "source": [
    "data = {'학생1':'둘리', '학생2':'또치', '학생3':'도우너', '학생4':'희동이', '학생5':'마이콜'}\n",
    "sr = pd.Series(data)\n",
    "print(type(sr))\n",
    "print(sr)"
   ]
  },
  {
   "cell_type": "code",
   "execution_count": 18,
   "metadata": {},
   "outputs": [
    {
     "name": "stdout",
     "output_type": "stream",
     "text": [
      "<class 'pandas.core.series.Series'>\n",
      "학생1     둘리\n",
      "학생2     또치\n",
      "학생3    도우너\n",
      "학생4    희동이\n",
      "학생5    마이콜\n",
      "dtype: object\n"
     ]
    }
   ],
   "source": [
    "data = ['둘리', '또치', '도우너', '희동이', '마이콜']\n",
    "sr = pd.Series(data, index = ['학생1', '학생2', '학생3', '학생4', '학생5'])\n",
    "print(type(sr))\n",
    "print(sr)"
   ]
  },
  {
   "cell_type": "code",
   "execution_count": 9,
   "metadata": {},
   "outputs": [
    {
     "name": "stdout",
     "output_type": "stream",
     "text": [
      "[시리즈 sr 출력]\n",
      "A형     34.2\n",
      "B형     27.1\n",
      "O형     26.7\n",
      "AB형    11.5\n",
      "dtype: float64\n",
      "[시리즈 sr에서 인덱싱과 슬라이싱하여 출력(숫자인덱스 사용)]\n",
      "34.2\n",
      "11.5\n",
      "27.1\n",
      "B형     27.1\n",
      "O형     26.7\n",
      "AB형    11.5\n",
      "dtype: float64\n",
      "[시리즈 sr에서 인덱싱과 슬라이싱하여 출력(이름인덱스 사용)]\n",
      "34.2\n",
      "11.5\n",
      "27.1\n",
      "B형     27.1\n",
      "O형     26.7\n",
      "AB형    11.5\n",
      "dtype: float64\n",
      "[시리즈 sr의 크기 출력]\n",
      "4\n",
      "[시리즈 sr의 인덱스 출력]\n",
      "Index(['A형', 'B형', 'O형', 'AB형'], dtype='object')\n",
      "[시리즈 sr의 데이터 값 출력]\n",
      "[34.2 27.1 26.7 11.5]\n"
     ]
    }
   ],
   "source": [
    "blood = ['A형', 'B형', 'O형', 'AB형']\n",
    "st = [34.2, 27.1, 26.7, 11.5]\n",
    "sr = pd.Series(st, index=blood)\n",
    "\n",
    "print(\"[시리즈 sr 출력]\")\n",
    "print(sr)\n",
    "\n",
    "print(\"[시리즈 sr에서 인덱싱과 슬라이싱하여 출력(숫자인덱스 사용)]\")\n",
    "print(sr[0])\n",
    "print(sr[3])\n",
    "print(sr[1])\n",
    "print(sr[1:4])\n",
    "\n",
    "print(\"[시리즈 sr에서 인덱싱과 슬라이싱하여 출력(이름인덱스 사용)]\")\n",
    "print(sr['A형'])\n",
    "print(sr['AB형'])\n",
    "print(sr['B형'])\n",
    "print(sr['B형':'AB형'])\n",
    "\n",
    "print('[시리즈 sr의 크기 출력]')\n",
    "print(len(sr))\n",
    "\n",
    "print('[시리즈 sr의 인덱스 출력]')\n",
    "print(sr.index)\n",
    "\n",
    "print('[시리즈 sr의 데이터 값 출력]')\n",
    "print(sr.values)"
   ]
  },
  {
   "cell_type": "code",
   "execution_count": 14,
   "metadata": {},
   "outputs": [
    {
     "name": "stdout",
     "output_type": "stream",
     "text": [
      "<class 'pandas.core.frame.DataFrame'>\n",
      "  name  kor  eng  mat\n",
      "0   둘리   90   99   90\n",
      "1   또치   80   98   70\n",
      "2  도우너   70   97   70\n",
      "3  희동이   70   46   60\n"
     ]
    }
   ],
   "source": [
    "data = {'name' : ['둘리', '또치', '도우너', '희동이'],\n",
    "        'kor' : [90, 80, 70, 70],\n",
    "        'eng' : [99, 98, 97, 46],\n",
    "        'mat' : [90, 70, 70, 60]\n",
    "       }\n",
    "df = pd.DataFrame(data)\n",
    "\n",
    "print(type(df))\n",
    "print(df)"
   ]
  },
  {
   "cell_type": "code",
   "execution_count": 18,
   "metadata": {},
   "outputs": [
    {
     "name": "stdout",
     "output_type": "stream",
     "text": [
      "<class 'pandas.core.frame.DataFrame'>\n",
      "    name  kor  eng  mat\n",
      "학생1   둘리   90   99   90\n",
      "학생2   또치   80   98   70\n",
      "학생3  도우너   70   97   70\n",
      "학생4  희동이   70   46   60\n"
     ]
    }
   ],
   "source": [
    "data = {'name' : ['둘리', '또치', '도우너', '희동이'],\n",
    "        'kor' : [90, 80, 70, 70],\n",
    "        'eng' : [99, 98, 97, 46],\n",
    "        'mat' : [90, 70, 70, 60]\n",
    "       }\n",
    "df = pd.DataFrame(data)\n",
    "df.index = ['학생1', '학생2', '학생3', '학생4']\n",
    "\n",
    "print(type(df))\n",
    "print(df)"
   ]
  },
  {
   "cell_type": "code",
   "execution_count": 19,
   "metadata": {},
   "outputs": [
    {
     "name": "stdout",
     "output_type": "stream",
     "text": [
      "<class 'pandas.core.frame.DataFrame'>\n",
      "    dooly  doochi  dounar  heedong\n",
      "st1    둘리      90      99       90\n",
      "st2    또치      80      98       70\n",
      "st3   도우너      70      97       70\n",
      "st4   희동이      70      46       60\n"
     ]
    }
   ],
   "source": [
    "data = {'name' : ['둘리', '또치', '도우너', '희동이'],\n",
    "        'kor' : [90, 80, 70, 70],\n",
    "        'eng' : [99, 98, 97, 46],\n",
    "        'mat' : [90, 70, 70, 60]\n",
    "       }\n",
    "df = pd.DataFrame(data)\n",
    "df.index = ['st1', 'st2', 'st3', 'st4']\n",
    "df.columns = ['dooly', 'doochi', 'dounar', 'heedong']\n",
    "\n",
    "print(type(df))\n",
    "print(df)"
   ]
  },
  {
   "cell_type": "code",
   "execution_count": 56,
   "metadata": {},
   "outputs": [
    {
     "name": "stdout",
     "output_type": "stream",
     "text": [
      "  name  kor  eng  mat\n",
      "0  듀크1   90   99   90\n",
      "1  듀크2   80   98   70\n",
      "2  듀크3   70   97   70\n",
      "3  듀크4   70   46   60\n",
      "4  듀크5   60   77   88\n",
      "  name  kor  eng  mat\n",
      "2  듀크3   70   97   70\n",
      "3  듀크4   70   46   60\n",
      "4  듀크5   60   77   88\n",
      "5  듀크6   70   56   99\n",
      "6  듀크7   90   90   90\n",
      "Index(['name', 'kor', 'eng', 'mat'], dtype='object')\n",
      "0    듀크1\n",
      "1    듀크2\n",
      "2    듀크3\n",
      "3    듀크4\n",
      "4    듀크5\n",
      "5    듀크6\n",
      "6    듀크7\n",
      "Name: name, dtype: object\n",
      "0    99\n",
      "1    98\n",
      "2    97\n",
      "3    46\n",
      "4    77\n",
      "5    56\n",
      "6    90\n",
      "Name: eng, dtype: int64\n",
      "   kor  mat\n",
      "0   90   90\n",
      "1   80   70\n",
      "2   70   70\n",
      "3   70   60\n",
      "4   60   88\n",
      "5   70   99\n",
      "6   90   90\n",
      "iloc 함수 사용 ----------\n",
      "name    듀크4\n",
      "kor      70\n",
      "eng      46\n",
      "mat      60\n",
      "Name: 3, dtype: object\n",
      "듀크1\n",
      "46\n",
      "2    97\n",
      "3    46\n",
      "Name: eng, dtype: int64\n",
      "   eng  mat\n",
      "2   97   70\n",
      "3   46   60\n",
      "loc함수 사용 ----------\n",
      "name    듀크4\n",
      "kor      70\n",
      "eng      46\n",
      "mat      60\n",
      "Name: 3, dtype: object\n",
      "듀크1\n",
      "46\n",
      "2    97\n",
      "3    46\n",
      "Name: eng, dtype: int64\n",
      "   eng  mat\n",
      "2   97   70\n",
      "3   46   60\n"
     ]
    }
   ],
   "source": [
    "data = {\n",
    "    'name':['듀크1', '듀크2', '듀크3', '듀크4', '듀크5', '듀크6', '듀크7'],\n",
    "    'kor':[90, 80, 70, 70, 60, 70, 90],\n",
    "    'eng':[99, 98, 97, 46, 77, 56, 90],\n",
    "    'mat':[90, 70, 70, 60, 88, 99, 90],\n",
    "}\n",
    "df = pd.DataFrame(data)\n",
    "print(df.head())\n",
    "print(df.tail())\n",
    "print(df.columns)\n",
    "print(df['name'])\n",
    "print(df.eng)\n",
    "print(df[['kor','mat']])\n",
    "print('iloc 함수 사용 ' + '-' *10)\n",
    "print(df.iloc[3])\n",
    "print(df.iloc[0][0])\n",
    "print(df.iloc[3][2])\n",
    "print(df.iloc[[2,3],2])\n",
    "print(df.iloc[[2,3],[2,3]])\n",
    "print('loc함수 사용 ' + '-' *10)\n",
    "print(df.loc[3])\n",
    "print(df.loc[0]['name'])\n",
    "print(df.loc[3]['eng'])\n",
    "print(df.loc[[2,3],'eng'])\n",
    "print(df.loc[[2,3],['eng','mat']])"
   ]
  },
  {
   "cell_type": "code",
   "execution_count": 57,
   "metadata": {},
   "outputs": [
    {
     "name": "stdout",
     "output_type": "stream",
     "text": [
      "      kor  eng  mat\n",
      "name               \n",
      "듀크1    90   99   90\n",
      "듀크2    80   98   70\n",
      "듀크3    70   97   70\n",
      "듀크4    70   46   60\n",
      "듀크5    60   77   88\n",
      "듀크6    70   56   99\n",
      "듀크7    90   90   90\n"
     ]
    }
   ],
   "source": [
    "data = {\n",
    "    'name':['듀크1', '듀크2', '듀크3', '듀크4', '듀크5', '듀크6', '듀크7'],\n",
    "    'kor':[90, 80, 70, 70, 60, 70, 90],\n",
    "    'eng':[99, 98, 97, 46, 77, 56, 90],\n",
    "    'mat':[90, 70, 70, 60, 88, 99, 90],\n",
    "}\n",
    "df = pd.DataFrame(data)\n",
    "df.set_index('name', inplace=True)\n",
    "print(df)"
   ]
  }
 ],
 "metadata": {
  "kernelspec": {
   "display_name": "pydatavenv",
   "language": "python",
   "name": "pydatavenv"
  },
  "language_info": {
   "codemirror_mode": {
    "name": "ipython",
    "version": 3
   },
   "file_extension": ".py",
   "mimetype": "text/x-python",
   "name": "python",
   "nbconvert_exporter": "python",
   "pygments_lexer": "ipython3",
   "version": "3.7.9"
  }
 },
 "nbformat": 4,
 "nbformat_minor": 4
}
