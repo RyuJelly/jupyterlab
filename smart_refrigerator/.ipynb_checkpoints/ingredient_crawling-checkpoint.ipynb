{
 "cells": [
  {
   "cell_type": "code",
   "execution_count": 2,
   "metadata": {},
   "outputs": [
    {
     "name": "stdout",
     "output_type": "stream",
     "text": [
      "1, 1, 1, 1, 1, 1, 1, 1, 1, 1, 1, 1, 1, 2, 3, 4, 5, 6, 7, 8, 9, time:  8.27973484992981\n"
     ]
    }
   ],
   "source": [
    "import re\n",
    "import time\n",
    "import pandas as pd\n",
    "import numpy as np\n",
    "from selenium import webdriver\n",
    "from selenium.webdriver.common.keys import Keys\n",
    "from pyvirtualdisplay import Display\n",
    "from selenium.webdriver.chrome.options import Options\n",
    "chrome_options=Options()\n",
    "display = Display(visible=0, size=(1024, 768))\n",
    "display.start()\n",
    "\n",
    "options = Options()\n",
    "options.add_argument('--headless')\n",
    "options.add_argument('--no-sandbox')\n",
    "options.add_argument('--disable-dev-shm-usage')\n",
    "options.add_argument('--disalbe-gpu')\n",
    "driver = webdriver.Chrome(executable_path='/usr/local/bin/chromedriver', options=options)\n",
    "# driver.implicitly_wait(6) \n",
    "driver.get('https://sauce.foodpolis.kr:447/home/index.do')\n",
    "# time.sleep(4)\n",
    "\n",
    "link = driver.find_element_by_css_selector('div > div.gnb_wrap > ul > li.allmenu_btn_m.icon > a')\n",
    "link.click()\n",
    "link = driver.find_element_by_css_selector('#totalmenu > div.total_wrap > div.total_body > ul > li:nth-child(3) > a')\n",
    "link.click()\n",
    "link = driver.find_element_by_css_selector('#totalmenu > div.total_wrap > div.total_body > ul > li.active > ul > li:nth-child(1) > a')\n",
    "link.click()\n",
    "link = driver.find_element_by_css_selector('#totalmenu > div.total_wrap > div.total_body > ul > li.active > ul > li.has.active > ul > li:nth-child(1) > a')\n",
    "link.click()\n",
    "\n",
    "start = time.time()\n",
    "\n",
    "ingredient_list = []\n",
    "page = 1;\n",
    "num = 1;\n",
    "pnum = 4;\n",
    "while True :\n",
    "    if num == 13 :\n",
    "        print(page, end=', ')\n",
    "        if pnum != 8:\n",
    "            next_page = driver.find_element_by_css_selector('#content > div > div.text-center > ul > li:nth-child('+ str(pnum) +') > a')\n",
    "            next_page.click()\n",
    "            page += 1;\n",
    "            pnum += 1;\n",
    "            num = 1;\n",
    "#             time.sleep(2)\n",
    "        else :\n",
    "            next_page = driver.find_element_by_css_selector('#content > div > div.text-center > ul > li.next > a')\n",
    "            next_page.click()\n",
    "            page += 1;\n",
    "            pnum = 4;\n",
    "            num = 1;\n",
    "#             time.sleep(2)\n",
    "            check_last_page = driver.find_elements_by_css_selector('#content > div > div.text-center > ul > li:nth-child(7) > a')\n",
    "            if not check_last_page :\n",
    "                break\n",
    "    if page == 10:\n",
    "        break;\n",
    "    ingredient_name = driver.find_elements_by_css_selector('table > tbody > tr:nth-child('+ str(num) +') > td:nth-child(2) > a')\n",
    "    for name in ingredient_name :\n",
    "        ingredient_list.append(name.text)\n",
    "        num += 1;\n",
    "    \n",
    "df = pd.DataFrame({'name' : ingredient_list})\n",
    "df.to_csv('./output/ingredient_list.csv', index=False)\n",
    "driver.quit()\n",
    "print(\"time: \", time.time()-start)"
   ]
  },
  {
   "cell_type": "code",
   "execution_count": 3,
   "metadata": {},
   "outputs": [
    {
     "name": "stdout",
     "output_type": "stream",
     "text": [
      "time:  0.3357267379760742\n"
     ]
    }
   ],
   "source": [
    "import re\n",
    "import time\n",
    "import pandas as pd\n",
    "import numpy as np\n",
    "from selenium import webdriver\n",
    "from selenium.webdriver.common.keys import Keys\n",
    "from pyvirtualdisplay import Display\n",
    "from selenium.webdriver.chrome.options import Options\n",
    "chrome_options=Options()\n",
    "display = Display(visible=0, size=(1024, 768))\n",
    "display.start()\n",
    "\n",
    "options = Options()\n",
    "options.add_argument('--headless')\n",
    "options.add_argument('--no-sandbox')\n",
    "options.add_argument('--disable-dev-shm-usage')\n",
    "options.add_argument('--disalbe-gpu')\n",
    "driver = webdriver.Chrome(executable_path='/usr/local/bin/chromedriver', options=options)\n",
    "driver.implicitly_wait(6) \n",
    "driver.get('https://sauce.foodpolis.kr:447/home/index.do')\n",
    "time.sleep(4)\n",
    "\n",
    "link = driver.find_element_by_css_selector('div > div.gnb_wrap > ul > li.allmenu_btn_m.icon > a')\n",
    "link.click()\n",
    "link = driver.find_element_by_css_selector('#totalmenu > div.total_wrap > div.total_body > ul > li:nth-child(3) > a')\n",
    "link.click()\n",
    "link = driver.find_element_by_css_selector('#totalmenu > div.total_wrap > div.total_body > ul > li.active > ul > li:nth-child(1) > a')\n",
    "link.click()\n",
    "link = driver.find_element_by_css_selector('#totalmenu > div.total_wrap > div.total_body > ul > li.active > ul > li.has.active > ul > li:nth-child(1) > a')\n",
    "link.click()\n",
    "\n",
    "start = time.time()\n",
    "\n",
    "ingredient_list = []\n",
    "page = 1;\n",
    "num = 1;\n",
    "pnum = 4;\n",
    "while True :\n",
    "    if num == 13:\n",
    "        break;\n",
    "    ingredient_name = driver.find_elements_by_css_selector('table > tbody > tr:nth-child('+ str(num) +') > td:nth-child(2) > a')\n",
    "    for name in ingredient_name :\n",
    "        ingredient_list.append(name.text)\n",
    "        num += 1;\n",
    "    \n",
    "df = pd.DataFrame({'name' : ingredient_list})\n",
    "df.to_csv('./output/ingredient_list.csv', index=False)\n",
    "driver.quit()\n",
    "print(\"time: \", time.time()-start)"
   ]
  },
  {
   "cell_type": "code",
   "execution_count": 5,
   "metadata": {},
   "outputs": [
    {
     "ename": "TypeError",
     "evalue": "'Display' object is not callable",
     "output_type": "error",
     "traceback": [
      "\u001b[0;31m---------------------------------------------------------------------------\u001b[0m",
      "\u001b[0;31mTypeError\u001b[0m                                 Traceback (most recent call last)",
      "\u001b[0;32m<ipython-input-5-b7cc6fc11d57>\u001b[0m in \u001b[0;36m<module>\u001b[0;34m\u001b[0m\n\u001b[0;32m----> 1\u001b[0;31m \u001b[0mdisplay\u001b[0m\u001b[0;34m(\u001b[0m\u001b[0mdf\u001b[0m\u001b[0;34m)\u001b[0m\u001b[0;34m\u001b[0m\u001b[0;34m\u001b[0m\u001b[0m\n\u001b[0m",
      "\u001b[0;31mTypeError\u001b[0m: 'Display' object is not callable"
     ]
    }
   ],
   "source": [
    "display(df)"
   ]
  }
 ],
 "metadata": {
  "kernelspec": {
   "display_name": "awsvenv",
   "language": "python",
   "name": "awsvenv"
  },
  "language_info": {
   "codemirror_mode": {
    "name": "ipython",
    "version": 3
   },
   "file_extension": ".py",
   "mimetype": "text/x-python",
   "name": "python",
   "nbconvert_exporter": "python",
   "pygments_lexer": "ipython3",
   "version": "3.6.12"
  }
 },
 "nbformat": 4,
 "nbformat_minor": 4
}
