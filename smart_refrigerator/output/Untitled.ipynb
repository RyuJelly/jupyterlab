{
 "cells": [
  {
   "cell_type": "code",
   "execution_count": 2,
   "metadata": {},
   "outputs": [],
   "source": [
    "import pandas as pd\n",
    "\n",
    "foodlist = ['차돌박이', '바나나', '사과', '등심', '양파', '파', '계란']\n",
    "df = pd.DataFrame({'name' : foodlist})\n",
    "\n",
    "df.to_csv('ingredient.csv', index=False)"
   ]
  },
  {
   "cell_type": "code",
   "execution_count": 3,
   "metadata": {},
   "outputs": [
    {
     "name": "stdout",
     "output_type": "stream",
     "text": [
      "차돌박이 바나나 사과 등심 양파 파 계란\n"
     ]
    }
   ],
   "source": [
    "ingredient = ' '.join(df['name'])\n",
    "print(ingredient)"
   ]
  },
  {
   "cell_type": "code",
   "execution_count": 12,
   "metadata": {},
   "outputs": [
    {
     "name": "stdout",
     "output_type": "stream",
     "text": [
      "                      차돌박이장깻잎장팽이버섯묶음숙주나물주먹                              가지소고기등심새싹채소소금후추올리브유                                   두부모다진소고기그람        차돌박이g부추g팽이버섯팩소금T후추t깨t                             차돌박이팩숙주나물g청량고추개     채 썬 표고버섯개채 썬 양파개채 썬 당근개소고기g전                  토마토개소고기불고기감g양파개꽈리고추개                          소고기g밥그릇양파개쪽파조금                                    참나물g차돌박이g                  한우 소고기 살치살g대파흰부분컵식용유큰술                         소고기g숙주줌양파개마늘개                                         소고기 다짐육g    밥인분양배추 넓은 것장소고기불고기g다진 쪽파T얇게 썬 양              쪽파줄불고기용 소고기g소금약간후추약간식용유약간    콩나물봉지소고기g노랑파프리카개빨강 파프리카개양파                                       소고기양배추쌀전분가루                            소고기 국거리용주먹무개대파대    소고기 불고기용g감자개청고추개홍고추개물머그컵간장큰                   얇게 썬 소고기장깻잎장파프리카색깔별로쪽씩    소불고깃감g당면g양파개대파대느타리버섯g당근    소고기 술라이스 불고깃감장밥공기부추g배추김치줌식용유큰술                                                  NaN                              양파개차돌박이인부추단                               차돌박이g정도새우오징어    소고기g소금참기름후춧가루청경채개잔파대양파개간장큰술    느타리버섯g쇠고기등심g대파뿌리고춧가루큰술물적당량                                    갈은 소고기g양파개                         소고기g무개당근개파개       소고기안심육우g어린잎채소g채썬양파개쪽파약간통깨약간        오이개소고기갈은것g간장작은술통깨큰술소금오일굵은소금                         소고기 불고기감g파프리카개깻잎장                                  소고기 부채살g마늘개                         차돌박이g양파개파단달걀개                                                  NaN             차돌박이g알배추포기팽이버섯느타리버섯팩씩표고버섯개                                     양파개무순조금등심                   소고기 갈빗살g양파개통마늘쪽버터    소고기 국거리g참기름큰술숙주나물봉지큰 무개대파대청    쇠고기등심불고기용g토르티야장체더 슬라이스치즈장피자치즈컵    부채살 or 차돌박이g부추줌양파개통깨큰술다진마늘큰술Name ingredient dtype object\n"
     ]
    }
   ],
   "source": [
    "import re\n",
    "df2 = pd.read_csv('test.csv')\n",
    "def sub_special(s):\n",
    "  return re.sub(r'[^ㄱ-ㅎㅏ-ㅣ가-힣a-zA-Z ]','',s)\n",
    "\n",
    "recipe = sub_special(str(df2['ingredient']))\n",
    "print(recipe)"
   ]
  },
  {
   "cell_type": "code",
   "execution_count": 15,
   "metadata": {},
   "outputs": [
    {
     "name": "stdout",
     "output_type": "stream",
     "text": [
      "닭\n"
     ]
    }
   ],
   "source": [
    "sample = '닭\\n한마리'\n",
    "text = sample.split('\\n')\n",
    "print(text[0])"
   ]
  }
 ],
 "metadata": {
  "kernelspec": {
   "display_name": "awsvenv",
   "language": "python",
   "name": "awsvenv"
  },
  "language_info": {
   "codemirror_mode": {
    "name": "ipython",
    "version": 3
   },
   "file_extension": ".py",
   "mimetype": "text/x-python",
   "name": "python",
   "nbconvert_exporter": "python",
   "pygments_lexer": "ipython3",
   "version": "3.6.12"
  }
 },
 "nbformat": 4,
 "nbformat_minor": 4
}
