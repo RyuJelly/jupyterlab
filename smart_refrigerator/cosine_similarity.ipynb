{
 "cells": [
  {
   "cell_type": "code",
   "execution_count": 3,
   "metadata": {},
   "outputs": [
    {
     "name": "stdout",
     "output_type": "stream",
     "text": [
      "(9882, 6792)\n",
      "(4920, 5056)\n"
     ]
    }
   ],
   "source": [
    "import pandas as pd\n",
    "from sklearn.feature_extraction.text import TfidfVectorizer\n",
    "from sklearn.metrics.pairwise import linear_kernel\n",
    "\n",
    "df = pd.read_csv('./output/recipe_1.csv')\n",
    "df2 = pd.read_csv('./output/ingredient_list.csv')\n",
    "\n",
    "tfidf = TfidfVectorizer()\n",
    "tfidf_matrix1 = tfidf.fit_transform(df.ingredient)\n",
    "tfidf_matrix2 = tfidf.fit_transform(df2.name)\n",
    "# 줄거리에 대해서 tf-idf 수행\n",
    "print(tfidf_matrix1.shape)\n",
    "print(tfidf_matrix2.shape)"
   ]
  },
  {
   "cell_type": "code",
   "execution_count": 11,
   "metadata": {},
   "outputs": [],
   "source": [
    "ilist = [name for name in df2.name]"
   ]
  },
  {
   "cell_type": "code",
   "execution_count": 15,
   "metadata": {},
   "outputs": [
    {
     "name": "stdout",
     "output_type": "stream",
     "text": [
      "0,1,2,3,4,5,6,7,8,9,35.88415217399597\n",
      "[['파', '개', '파', '개'], ['개', '쌀', '개'], ['개'], ['개', '김', '개', '파'], ['마', '무', '마', '시', '마', '파', '개'], ['마', '굴', '개', '파', '개', '파', '배'], [], ['무'], ['무'], ['쌀', '콩', '굴']]\n"
     ]
    }
   ],
   "source": [
    "data = ilist\n",
    "# 송이버섯 표고버섯 팽이버섯 -> 버섯, 삼겹살 목살 -> 돼지고기 copy후 replace\n",
    "import time\n",
    "start = time.time()\n",
    "dfe = pd.DataFrame({\"ingredient\" : data})\n",
    "dfe.to_csv('./output/test_ingredient.csv')\n",
    "df2 = df.copy()\n",
    "\n",
    "inlist = []\n",
    "outlist = []\n",
    "# for n in range(len(df2['ingredient'])):\n",
    "for n in range(10):\n",
    "    print(n, end=',')\n",
    "    for i in range(len(df2['ingredient'][n])):\n",
    "        for d in range(len(data)):\n",
    "            if data[d] in df2['ingredient'][n][i]:\n",
    "                inlist.append(df2['ingredient'][n][i])\n",
    "    outlist.append(inlist)\n",
    "    inlist = []\n",
    "\n",
    "print(time.time() - start)\n",
    "print(outlist)\n",
    "# print(df2['ingredient'][3][0])\n",
    "# print(data[0])\n",
    "# print(data[0] in df2['ingredient'][3][0])\n",
    "# print(outlist)\n",
    "# df2['ingredient_name'] = outlist\n",
    "# print(df2['ingredient_name'][0])\n",
    "# print(' '.join(df2['ingredient_name'][0]))"
   ]
  }
 ],
 "metadata": {
  "kernelspec": {
   "display_name": "pydatavenv",
   "language": "python",
   "name": "pydatavenv"
  },
  "language_info": {
   "codemirror_mode": {
    "name": "ipython",
    "version": 3
   },
   "file_extension": ".py",
   "mimetype": "text/x-python",
   "name": "python",
   "nbconvert_exporter": "python",
   "pygments_lexer": "ipython3",
   "version": "3.7.9"
  }
 },
 "nbformat": 4,
 "nbformat_minor": 4
}
